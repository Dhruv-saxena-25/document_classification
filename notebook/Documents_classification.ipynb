{
  "nbformat": 4,
  "nbformat_minor": 0,
  "metadata": {
    "colab": {
      "provenance": [],
      "machine_shape": "hm",
      "gpuType": "T4"
    },
    "kernelspec": {
      "name": "python3",
      "display_name": "Python 3"
    },
    "language_info": {
      "name": "python"
    },
    "accelerator": "GPU",
    "widgets": {
      "application/vnd.jupyter.widget-state+json": {
        "ce06a3344662417ba0dc3acd0523c612": {
          "model_module": "@jupyter-widgets/controls",
          "model_name": "HBoxModel",
          "model_module_version": "1.5.0",
          "state": {
            "_dom_classes": [],
            "_model_module": "@jupyter-widgets/controls",
            "_model_module_version": "1.5.0",
            "_model_name": "HBoxModel",
            "_view_count": null,
            "_view_module": "@jupyter-widgets/controls",
            "_view_module_version": "1.5.0",
            "_view_name": "HBoxView",
            "box_style": "",
            "children": [
              "IPY_MODEL_973ce23e506044238af73ff8ad21e7fd",
              "IPY_MODEL_d1264226aeee44a8836841955e384c68",
              "IPY_MODEL_d4a8199fb3ae405d9673df580735a891"
            ],
            "layout": "IPY_MODEL_893996880588461f9b9a9fae4a238381"
          }
        },
        "973ce23e506044238af73ff8ad21e7fd": {
          "model_module": "@jupyter-widgets/controls",
          "model_name": "HTMLModel",
          "model_module_version": "1.5.0",
          "state": {
            "_dom_classes": [],
            "_model_module": "@jupyter-widgets/controls",
            "_model_module_version": "1.5.0",
            "_model_name": "HTMLModel",
            "_view_count": null,
            "_view_module": "@jupyter-widgets/controls",
            "_view_module_version": "1.5.0",
            "_view_name": "HTMLView",
            "description": "",
            "description_tooltip": null,
            "layout": "IPY_MODEL_5bda23f150b04c8489f9445b3cacd5c6",
            "placeholder": "​",
            "style": "IPY_MODEL_4ac72ea882a4498ab4459d112c36f9f7",
            "value": "Map: 100%"
          }
        },
        "d1264226aeee44a8836841955e384c68": {
          "model_module": "@jupyter-widgets/controls",
          "model_name": "FloatProgressModel",
          "model_module_version": "1.5.0",
          "state": {
            "_dom_classes": [],
            "_model_module": "@jupyter-widgets/controls",
            "_model_module_version": "1.5.0",
            "_model_name": "FloatProgressModel",
            "_view_count": null,
            "_view_module": "@jupyter-widgets/controls",
            "_view_module_version": "1.5.0",
            "_view_name": "ProgressView",
            "bar_style": "success",
            "description": "",
            "description_tooltip": null,
            "layout": "IPY_MODEL_935c64a563ef42cbb912a6ec5ba469bf",
            "max": 1780,
            "min": 0,
            "orientation": "horizontal",
            "style": "IPY_MODEL_244f21dd60a3456bacc9dc82b49ce4ea",
            "value": 1780
          }
        },
        "d4a8199fb3ae405d9673df580735a891": {
          "model_module": "@jupyter-widgets/controls",
          "model_name": "HTMLModel",
          "model_module_version": "1.5.0",
          "state": {
            "_dom_classes": [],
            "_model_module": "@jupyter-widgets/controls",
            "_model_module_version": "1.5.0",
            "_model_name": "HTMLModel",
            "_view_count": null,
            "_view_module": "@jupyter-widgets/controls",
            "_view_module_version": "1.5.0",
            "_view_name": "HTMLView",
            "description": "",
            "description_tooltip": null,
            "layout": "IPY_MODEL_aed7a7d6a600410fa4cbc3198fad6f11",
            "placeholder": "​",
            "style": "IPY_MODEL_e6c6d6a8f69847ab9f14741d46cf22e8",
            "value": " 1780/1780 [00:00&lt;00:00, 2155.52 examples/s]"
          }
        },
        "893996880588461f9b9a9fae4a238381": {
          "model_module": "@jupyter-widgets/base",
          "model_name": "LayoutModel",
          "model_module_version": "1.2.0",
          "state": {
            "_model_module": "@jupyter-widgets/base",
            "_model_module_version": "1.2.0",
            "_model_name": "LayoutModel",
            "_view_count": null,
            "_view_module": "@jupyter-widgets/base",
            "_view_module_version": "1.2.0",
            "_view_name": "LayoutView",
            "align_content": null,
            "align_items": null,
            "align_self": null,
            "border": null,
            "bottom": null,
            "display": null,
            "flex": null,
            "flex_flow": null,
            "grid_area": null,
            "grid_auto_columns": null,
            "grid_auto_flow": null,
            "grid_auto_rows": null,
            "grid_column": null,
            "grid_gap": null,
            "grid_row": null,
            "grid_template_areas": null,
            "grid_template_columns": null,
            "grid_template_rows": null,
            "height": null,
            "justify_content": null,
            "justify_items": null,
            "left": null,
            "margin": null,
            "max_height": null,
            "max_width": null,
            "min_height": null,
            "min_width": null,
            "object_fit": null,
            "object_position": null,
            "order": null,
            "overflow": null,
            "overflow_x": null,
            "overflow_y": null,
            "padding": null,
            "right": null,
            "top": null,
            "visibility": null,
            "width": null
          }
        },
        "5bda23f150b04c8489f9445b3cacd5c6": {
          "model_module": "@jupyter-widgets/base",
          "model_name": "LayoutModel",
          "model_module_version": "1.2.0",
          "state": {
            "_model_module": "@jupyter-widgets/base",
            "_model_module_version": "1.2.0",
            "_model_name": "LayoutModel",
            "_view_count": null,
            "_view_module": "@jupyter-widgets/base",
            "_view_module_version": "1.2.0",
            "_view_name": "LayoutView",
            "align_content": null,
            "align_items": null,
            "align_self": null,
            "border": null,
            "bottom": null,
            "display": null,
            "flex": null,
            "flex_flow": null,
            "grid_area": null,
            "grid_auto_columns": null,
            "grid_auto_flow": null,
            "grid_auto_rows": null,
            "grid_column": null,
            "grid_gap": null,
            "grid_row": null,
            "grid_template_areas": null,
            "grid_template_columns": null,
            "grid_template_rows": null,
            "height": null,
            "justify_content": null,
            "justify_items": null,
            "left": null,
            "margin": null,
            "max_height": null,
            "max_width": null,
            "min_height": null,
            "min_width": null,
            "object_fit": null,
            "object_position": null,
            "order": null,
            "overflow": null,
            "overflow_x": null,
            "overflow_y": null,
            "padding": null,
            "right": null,
            "top": null,
            "visibility": null,
            "width": null
          }
        },
        "4ac72ea882a4498ab4459d112c36f9f7": {
          "model_module": "@jupyter-widgets/controls",
          "model_name": "DescriptionStyleModel",
          "model_module_version": "1.5.0",
          "state": {
            "_model_module": "@jupyter-widgets/controls",
            "_model_module_version": "1.5.0",
            "_model_name": "DescriptionStyleModel",
            "_view_count": null,
            "_view_module": "@jupyter-widgets/base",
            "_view_module_version": "1.2.0",
            "_view_name": "StyleView",
            "description_width": ""
          }
        },
        "935c64a563ef42cbb912a6ec5ba469bf": {
          "model_module": "@jupyter-widgets/base",
          "model_name": "LayoutModel",
          "model_module_version": "1.2.0",
          "state": {
            "_model_module": "@jupyter-widgets/base",
            "_model_module_version": "1.2.0",
            "_model_name": "LayoutModel",
            "_view_count": null,
            "_view_module": "@jupyter-widgets/base",
            "_view_module_version": "1.2.0",
            "_view_name": "LayoutView",
            "align_content": null,
            "align_items": null,
            "align_self": null,
            "border": null,
            "bottom": null,
            "display": null,
            "flex": null,
            "flex_flow": null,
            "grid_area": null,
            "grid_auto_columns": null,
            "grid_auto_flow": null,
            "grid_auto_rows": null,
            "grid_column": null,
            "grid_gap": null,
            "grid_row": null,
            "grid_template_areas": null,
            "grid_template_columns": null,
            "grid_template_rows": null,
            "height": null,
            "justify_content": null,
            "justify_items": null,
            "left": null,
            "margin": null,
            "max_height": null,
            "max_width": null,
            "min_height": null,
            "min_width": null,
            "object_fit": null,
            "object_position": null,
            "order": null,
            "overflow": null,
            "overflow_x": null,
            "overflow_y": null,
            "padding": null,
            "right": null,
            "top": null,
            "visibility": null,
            "width": null
          }
        },
        "244f21dd60a3456bacc9dc82b49ce4ea": {
          "model_module": "@jupyter-widgets/controls",
          "model_name": "ProgressStyleModel",
          "model_module_version": "1.5.0",
          "state": {
            "_model_module": "@jupyter-widgets/controls",
            "_model_module_version": "1.5.0",
            "_model_name": "ProgressStyleModel",
            "_view_count": null,
            "_view_module": "@jupyter-widgets/base",
            "_view_module_version": "1.2.0",
            "_view_name": "StyleView",
            "bar_color": null,
            "description_width": ""
          }
        },
        "aed7a7d6a600410fa4cbc3198fad6f11": {
          "model_module": "@jupyter-widgets/base",
          "model_name": "LayoutModel",
          "model_module_version": "1.2.0",
          "state": {
            "_model_module": "@jupyter-widgets/base",
            "_model_module_version": "1.2.0",
            "_model_name": "LayoutModel",
            "_view_count": null,
            "_view_module": "@jupyter-widgets/base",
            "_view_module_version": "1.2.0",
            "_view_name": "LayoutView",
            "align_content": null,
            "align_items": null,
            "align_self": null,
            "border": null,
            "bottom": null,
            "display": null,
            "flex": null,
            "flex_flow": null,
            "grid_area": null,
            "grid_auto_columns": null,
            "grid_auto_flow": null,
            "grid_auto_rows": null,
            "grid_column": null,
            "grid_gap": null,
            "grid_row": null,
            "grid_template_areas": null,
            "grid_template_columns": null,
            "grid_template_rows": null,
            "height": null,
            "justify_content": null,
            "justify_items": null,
            "left": null,
            "margin": null,
            "max_height": null,
            "max_width": null,
            "min_height": null,
            "min_width": null,
            "object_fit": null,
            "object_position": null,
            "order": null,
            "overflow": null,
            "overflow_x": null,
            "overflow_y": null,
            "padding": null,
            "right": null,
            "top": null,
            "visibility": null,
            "width": null
          }
        },
        "e6c6d6a8f69847ab9f14741d46cf22e8": {
          "model_module": "@jupyter-widgets/controls",
          "model_name": "DescriptionStyleModel",
          "model_module_version": "1.5.0",
          "state": {
            "_model_module": "@jupyter-widgets/controls",
            "_model_module_version": "1.5.0",
            "_model_name": "DescriptionStyleModel",
            "_view_count": null,
            "_view_module": "@jupyter-widgets/base",
            "_view_module_version": "1.2.0",
            "_view_name": "StyleView",
            "description_width": ""
          }
        },
        "9981e0de9aa246fc84d44c832ce4b67e": {
          "model_module": "@jupyter-widgets/controls",
          "model_name": "HBoxModel",
          "model_module_version": "1.5.0",
          "state": {
            "_dom_classes": [],
            "_model_module": "@jupyter-widgets/controls",
            "_model_module_version": "1.5.0",
            "_model_name": "HBoxModel",
            "_view_count": null,
            "_view_module": "@jupyter-widgets/controls",
            "_view_module_version": "1.5.0",
            "_view_name": "HBoxView",
            "box_style": "",
            "children": [
              "IPY_MODEL_bd01ecd413bd44f49c6e205ce9e39b66",
              "IPY_MODEL_d2b7f7fcb98a438c8f65a473258e36ce",
              "IPY_MODEL_c503de3db1d3443fa7f8fa8aaa4a96c2"
            ],
            "layout": "IPY_MODEL_74f52bfa57f141a6a1ea376cb122181d"
          }
        },
        "bd01ecd413bd44f49c6e205ce9e39b66": {
          "model_module": "@jupyter-widgets/controls",
          "model_name": "HTMLModel",
          "model_module_version": "1.5.0",
          "state": {
            "_dom_classes": [],
            "_model_module": "@jupyter-widgets/controls",
            "_model_module_version": "1.5.0",
            "_model_name": "HTMLModel",
            "_view_count": null,
            "_view_module": "@jupyter-widgets/controls",
            "_view_module_version": "1.5.0",
            "_view_name": "HTMLView",
            "description": "",
            "description_tooltip": null,
            "layout": "IPY_MODEL_996310810d534d06a446f6a4c4eb4a7c",
            "placeholder": "​",
            "style": "IPY_MODEL_964b95cb29ac4df6838af8e988aaa537",
            "value": "Map: 100%"
          }
        },
        "d2b7f7fcb98a438c8f65a473258e36ce": {
          "model_module": "@jupyter-widgets/controls",
          "model_name": "FloatProgressModel",
          "model_module_version": "1.5.0",
          "state": {
            "_dom_classes": [],
            "_model_module": "@jupyter-widgets/controls",
            "_model_module_version": "1.5.0",
            "_model_name": "FloatProgressModel",
            "_view_count": null,
            "_view_module": "@jupyter-widgets/controls",
            "_view_module_version": "1.5.0",
            "_view_name": "ProgressView",
            "bar_style": "success",
            "description": "",
            "description_tooltip": null,
            "layout": "IPY_MODEL_b027c089d9374ae7ad4132d0a2a5ab16",
            "max": 445,
            "min": 0,
            "orientation": "horizontal",
            "style": "IPY_MODEL_1412018b89f949d4ac5a49606f00d604",
            "value": 445
          }
        },
        "c503de3db1d3443fa7f8fa8aaa4a96c2": {
          "model_module": "@jupyter-widgets/controls",
          "model_name": "HTMLModel",
          "model_module_version": "1.5.0",
          "state": {
            "_dom_classes": [],
            "_model_module": "@jupyter-widgets/controls",
            "_model_module_version": "1.5.0",
            "_model_name": "HTMLModel",
            "_view_count": null,
            "_view_module": "@jupyter-widgets/controls",
            "_view_module_version": "1.5.0",
            "_view_name": "HTMLView",
            "description": "",
            "description_tooltip": null,
            "layout": "IPY_MODEL_8f52754615ed4f72bbb197afdb5673e8",
            "placeholder": "​",
            "style": "IPY_MODEL_27256481d8c5407b96d1a0845165d7b7",
            "value": " 445/445 [00:00&lt;00:00, 2230.46 examples/s]"
          }
        },
        "74f52bfa57f141a6a1ea376cb122181d": {
          "model_module": "@jupyter-widgets/base",
          "model_name": "LayoutModel",
          "model_module_version": "1.2.0",
          "state": {
            "_model_module": "@jupyter-widgets/base",
            "_model_module_version": "1.2.0",
            "_model_name": "LayoutModel",
            "_view_count": null,
            "_view_module": "@jupyter-widgets/base",
            "_view_module_version": "1.2.0",
            "_view_name": "LayoutView",
            "align_content": null,
            "align_items": null,
            "align_self": null,
            "border": null,
            "bottom": null,
            "display": null,
            "flex": null,
            "flex_flow": null,
            "grid_area": null,
            "grid_auto_columns": null,
            "grid_auto_flow": null,
            "grid_auto_rows": null,
            "grid_column": null,
            "grid_gap": null,
            "grid_row": null,
            "grid_template_areas": null,
            "grid_template_columns": null,
            "grid_template_rows": null,
            "height": null,
            "justify_content": null,
            "justify_items": null,
            "left": null,
            "margin": null,
            "max_height": null,
            "max_width": null,
            "min_height": null,
            "min_width": null,
            "object_fit": null,
            "object_position": null,
            "order": null,
            "overflow": null,
            "overflow_x": null,
            "overflow_y": null,
            "padding": null,
            "right": null,
            "top": null,
            "visibility": null,
            "width": null
          }
        },
        "996310810d534d06a446f6a4c4eb4a7c": {
          "model_module": "@jupyter-widgets/base",
          "model_name": "LayoutModel",
          "model_module_version": "1.2.0",
          "state": {
            "_model_module": "@jupyter-widgets/base",
            "_model_module_version": "1.2.0",
            "_model_name": "LayoutModel",
            "_view_count": null,
            "_view_module": "@jupyter-widgets/base",
            "_view_module_version": "1.2.0",
            "_view_name": "LayoutView",
            "align_content": null,
            "align_items": null,
            "align_self": null,
            "border": null,
            "bottom": null,
            "display": null,
            "flex": null,
            "flex_flow": null,
            "grid_area": null,
            "grid_auto_columns": null,
            "grid_auto_flow": null,
            "grid_auto_rows": null,
            "grid_column": null,
            "grid_gap": null,
            "grid_row": null,
            "grid_template_areas": null,
            "grid_template_columns": null,
            "grid_template_rows": null,
            "height": null,
            "justify_content": null,
            "justify_items": null,
            "left": null,
            "margin": null,
            "max_height": null,
            "max_width": null,
            "min_height": null,
            "min_width": null,
            "object_fit": null,
            "object_position": null,
            "order": null,
            "overflow": null,
            "overflow_x": null,
            "overflow_y": null,
            "padding": null,
            "right": null,
            "top": null,
            "visibility": null,
            "width": null
          }
        },
        "964b95cb29ac4df6838af8e988aaa537": {
          "model_module": "@jupyter-widgets/controls",
          "model_name": "DescriptionStyleModel",
          "model_module_version": "1.5.0",
          "state": {
            "_model_module": "@jupyter-widgets/controls",
            "_model_module_version": "1.5.0",
            "_model_name": "DescriptionStyleModel",
            "_view_count": null,
            "_view_module": "@jupyter-widgets/base",
            "_view_module_version": "1.2.0",
            "_view_name": "StyleView",
            "description_width": ""
          }
        },
        "b027c089d9374ae7ad4132d0a2a5ab16": {
          "model_module": "@jupyter-widgets/base",
          "model_name": "LayoutModel",
          "model_module_version": "1.2.0",
          "state": {
            "_model_module": "@jupyter-widgets/base",
            "_model_module_version": "1.2.0",
            "_model_name": "LayoutModel",
            "_view_count": null,
            "_view_module": "@jupyter-widgets/base",
            "_view_module_version": "1.2.0",
            "_view_name": "LayoutView",
            "align_content": null,
            "align_items": null,
            "align_self": null,
            "border": null,
            "bottom": null,
            "display": null,
            "flex": null,
            "flex_flow": null,
            "grid_area": null,
            "grid_auto_columns": null,
            "grid_auto_flow": null,
            "grid_auto_rows": null,
            "grid_column": null,
            "grid_gap": null,
            "grid_row": null,
            "grid_template_areas": null,
            "grid_template_columns": null,
            "grid_template_rows": null,
            "height": null,
            "justify_content": null,
            "justify_items": null,
            "left": null,
            "margin": null,
            "max_height": null,
            "max_width": null,
            "min_height": null,
            "min_width": null,
            "object_fit": null,
            "object_position": null,
            "order": null,
            "overflow": null,
            "overflow_x": null,
            "overflow_y": null,
            "padding": null,
            "right": null,
            "top": null,
            "visibility": null,
            "width": null
          }
        },
        "1412018b89f949d4ac5a49606f00d604": {
          "model_module": "@jupyter-widgets/controls",
          "model_name": "ProgressStyleModel",
          "model_module_version": "1.5.0",
          "state": {
            "_model_module": "@jupyter-widgets/controls",
            "_model_module_version": "1.5.0",
            "_model_name": "ProgressStyleModel",
            "_view_count": null,
            "_view_module": "@jupyter-widgets/base",
            "_view_module_version": "1.2.0",
            "_view_name": "StyleView",
            "bar_color": null,
            "description_width": ""
          }
        },
        "8f52754615ed4f72bbb197afdb5673e8": {
          "model_module": "@jupyter-widgets/base",
          "model_name": "LayoutModel",
          "model_module_version": "1.2.0",
          "state": {
            "_model_module": "@jupyter-widgets/base",
            "_model_module_version": "1.2.0",
            "_model_name": "LayoutModel",
            "_view_count": null,
            "_view_module": "@jupyter-widgets/base",
            "_view_module_version": "1.2.0",
            "_view_name": "LayoutView",
            "align_content": null,
            "align_items": null,
            "align_self": null,
            "border": null,
            "bottom": null,
            "display": null,
            "flex": null,
            "flex_flow": null,
            "grid_area": null,
            "grid_auto_columns": null,
            "grid_auto_flow": null,
            "grid_auto_rows": null,
            "grid_column": null,
            "grid_gap": null,
            "grid_row": null,
            "grid_template_areas": null,
            "grid_template_columns": null,
            "grid_template_rows": null,
            "height": null,
            "justify_content": null,
            "justify_items": null,
            "left": null,
            "margin": null,
            "max_height": null,
            "max_width": null,
            "min_height": null,
            "min_width": null,
            "object_fit": null,
            "object_position": null,
            "order": null,
            "overflow": null,
            "overflow_x": null,
            "overflow_y": null,
            "padding": null,
            "right": null,
            "top": null,
            "visibility": null,
            "width": null
          }
        },
        "27256481d8c5407b96d1a0845165d7b7": {
          "model_module": "@jupyter-widgets/controls",
          "model_name": "DescriptionStyleModel",
          "model_module_version": "1.5.0",
          "state": {
            "_model_module": "@jupyter-widgets/controls",
            "_model_module_version": "1.5.0",
            "_model_name": "DescriptionStyleModel",
            "_view_count": null,
            "_view_module": "@jupyter-widgets/base",
            "_view_module_version": "1.2.0",
            "_view_name": "StyleView",
            "description_width": ""
          }
        }
      }
    }
  },
  "cells": [
    {
      "cell_type": "code",
      "execution_count": 26,
      "metadata": {
        "id": "ZjM6XgGx06X-"
      },
      "outputs": [],
      "source": [
        "data = \"/content/drive/MyDrive/bbc_data\""
      ]
    },
    {
      "cell_type": "code",
      "source": [
        "import pandas as pd\n",
        "import numpy as np\n",
        "import os"
      ],
      "metadata": {
        "id": "uqvjhrzr7Grj"
      },
      "execution_count": 27,
      "outputs": []
    },
    {
      "cell_type": "code",
      "source": [
        "directory = []\n",
        "file = []\n",
        "title = []\n",
        "text = []\n",
        "label = []\n",
        "datapath = data\n",
        "for dirname, _, filenames in os.walk(datapath):\n",
        "    try:\n",
        "        filenames.remove(\"README.TXT\")\n",
        "    except:\n",
        "        pass\n",
        "    for filename in filenames:\n",
        "        directory.append(dirname)\n",
        "        file.append(filename)\n",
        "        label.append(dirname.split('/')[-1])\n",
        "        fullpathfile = os.path.join(dirname,filename)\n",
        "        with open(fullpathfile, 'r', encoding=\"utf8\", errors='ignore') as infile:\n",
        "            intext = ''\n",
        "            firstline = True\n",
        "            for line in infile:\n",
        "                if firstline:\n",
        "                    title.append(line.replace('\\n',''))\n",
        "                    firstline = False\n",
        "                else:\n",
        "                    intext = intext + ' ' + line.replace('\\n','')\n",
        "            text.append(intext)\n"
      ],
      "metadata": {
        "id": "vMDes68S7MNO"
      },
      "execution_count": 28,
      "outputs": []
    },
    {
      "cell_type": "code",
      "source": [
        "DATA_COLUMN = 'text'\n",
        "LABEL_COLUMN = 'label'\n",
        "\n",
        "fulldf = pd.DataFrame(list(zip(directory, file, title, text, label)),\n",
        "               columns =['directory', 'file', 'title', 'text', 'label'])\n",
        "\n",
        "df = fulldf.filter(['text','label'], axis=1)\n",
        "df.head()"
      ],
      "metadata": {
        "colab": {
          "base_uri": "https://localhost:8080/",
          "height": 206
        },
        "id": "3JDG9A4B7VzJ",
        "outputId": "86a09a52-6e2e-4cae-c9b0-04a648a61b24"
      },
      "execution_count": 29,
      "outputs": [
        {
          "output_type": "execute_result",
          "data": {
            "text/plain": [
              "                                                text label\n",
              "0    Viewers could soon be rewarded for watching ...  tech\n",
              "1    Robots are learning lessons on \"robotiquette...  tech\n",
              "2    Computer games could enhance learning and ha...  tech\n",
              "3    Games aimed at \"casual players\" are set to b...  tech\n",
              "4    UK mobile owners continue to break records w...  tech"
            ],
            "text/html": [
              "\n",
              "  <div id=\"df-063ebd71-1c18-460e-a8b5-01c1a81087af\" class=\"colab-df-container\">\n",
              "    <div>\n",
              "<style scoped>\n",
              "    .dataframe tbody tr th:only-of-type {\n",
              "        vertical-align: middle;\n",
              "    }\n",
              "\n",
              "    .dataframe tbody tr th {\n",
              "        vertical-align: top;\n",
              "    }\n",
              "\n",
              "    .dataframe thead th {\n",
              "        text-align: right;\n",
              "    }\n",
              "</style>\n",
              "<table border=\"1\" class=\"dataframe\">\n",
              "  <thead>\n",
              "    <tr style=\"text-align: right;\">\n",
              "      <th></th>\n",
              "      <th>text</th>\n",
              "      <th>label</th>\n",
              "    </tr>\n",
              "  </thead>\n",
              "  <tbody>\n",
              "    <tr>\n",
              "      <th>0</th>\n",
              "      <td>Viewers could soon be rewarded for watching ...</td>\n",
              "      <td>tech</td>\n",
              "    </tr>\n",
              "    <tr>\n",
              "      <th>1</th>\n",
              "      <td>Robots are learning lessons on \"robotiquette...</td>\n",
              "      <td>tech</td>\n",
              "    </tr>\n",
              "    <tr>\n",
              "      <th>2</th>\n",
              "      <td>Computer games could enhance learning and ha...</td>\n",
              "      <td>tech</td>\n",
              "    </tr>\n",
              "    <tr>\n",
              "      <th>3</th>\n",
              "      <td>Games aimed at \"casual players\" are set to b...</td>\n",
              "      <td>tech</td>\n",
              "    </tr>\n",
              "    <tr>\n",
              "      <th>4</th>\n",
              "      <td>UK mobile owners continue to break records w...</td>\n",
              "      <td>tech</td>\n",
              "    </tr>\n",
              "  </tbody>\n",
              "</table>\n",
              "</div>\n",
              "    <div class=\"colab-df-buttons\">\n",
              "\n",
              "  <div class=\"colab-df-container\">\n",
              "    <button class=\"colab-df-convert\" onclick=\"convertToInteractive('df-063ebd71-1c18-460e-a8b5-01c1a81087af')\"\n",
              "            title=\"Convert this dataframe to an interactive table.\"\n",
              "            style=\"display:none;\">\n",
              "\n",
              "  <svg xmlns=\"http://www.w3.org/2000/svg\" height=\"24px\" viewBox=\"0 -960 960 960\">\n",
              "    <path d=\"M120-120v-720h720v720H120Zm60-500h600v-160H180v160Zm220 220h160v-160H400v160Zm0 220h160v-160H400v160ZM180-400h160v-160H180v160Zm440 0h160v-160H620v160ZM180-180h160v-160H180v160Zm440 0h160v-160H620v160Z\"/>\n",
              "  </svg>\n",
              "    </button>\n",
              "\n",
              "  <style>\n",
              "    .colab-df-container {\n",
              "      display:flex;\n",
              "      gap: 12px;\n",
              "    }\n",
              "\n",
              "    .colab-df-convert {\n",
              "      background-color: #E8F0FE;\n",
              "      border: none;\n",
              "      border-radius: 50%;\n",
              "      cursor: pointer;\n",
              "      display: none;\n",
              "      fill: #1967D2;\n",
              "      height: 32px;\n",
              "      padding: 0 0 0 0;\n",
              "      width: 32px;\n",
              "    }\n",
              "\n",
              "    .colab-df-convert:hover {\n",
              "      background-color: #E2EBFA;\n",
              "      box-shadow: 0px 1px 2px rgba(60, 64, 67, 0.3), 0px 1px 3px 1px rgba(60, 64, 67, 0.15);\n",
              "      fill: #174EA6;\n",
              "    }\n",
              "\n",
              "    .colab-df-buttons div {\n",
              "      margin-bottom: 4px;\n",
              "    }\n",
              "\n",
              "    [theme=dark] .colab-df-convert {\n",
              "      background-color: #3B4455;\n",
              "      fill: #D2E3FC;\n",
              "    }\n",
              "\n",
              "    [theme=dark] .colab-df-convert:hover {\n",
              "      background-color: #434B5C;\n",
              "      box-shadow: 0px 1px 3px 1px rgba(0, 0, 0, 0.15);\n",
              "      filter: drop-shadow(0px 1px 2px rgba(0, 0, 0, 0.3));\n",
              "      fill: #FFFFFF;\n",
              "    }\n",
              "  </style>\n",
              "\n",
              "    <script>\n",
              "      const buttonEl =\n",
              "        document.querySelector('#df-063ebd71-1c18-460e-a8b5-01c1a81087af button.colab-df-convert');\n",
              "      buttonEl.style.display =\n",
              "        google.colab.kernel.accessAllowed ? 'block' : 'none';\n",
              "\n",
              "      async function convertToInteractive(key) {\n",
              "        const element = document.querySelector('#df-063ebd71-1c18-460e-a8b5-01c1a81087af');\n",
              "        const dataTable =\n",
              "          await google.colab.kernel.invokeFunction('convertToInteractive',\n",
              "                                                    [key], {});\n",
              "        if (!dataTable) return;\n",
              "\n",
              "        const docLinkHtml = 'Like what you see? Visit the ' +\n",
              "          '<a target=\"_blank\" href=https://colab.research.google.com/notebooks/data_table.ipynb>data table notebook</a>'\n",
              "          + ' to learn more about interactive tables.';\n",
              "        element.innerHTML = '';\n",
              "        dataTable['output_type'] = 'display_data';\n",
              "        await google.colab.output.renderOutput(dataTable, element);\n",
              "        const docLink = document.createElement('div');\n",
              "        docLink.innerHTML = docLinkHtml;\n",
              "        element.appendChild(docLink);\n",
              "      }\n",
              "    </script>\n",
              "  </div>\n",
              "\n",
              "\n",
              "<div id=\"df-2204f12c-b0a3-452f-9fcb-e616e27a45b7\">\n",
              "  <button class=\"colab-df-quickchart\" onclick=\"quickchart('df-2204f12c-b0a3-452f-9fcb-e616e27a45b7')\"\n",
              "            title=\"Suggest charts\"\n",
              "            style=\"display:none;\">\n",
              "\n",
              "<svg xmlns=\"http://www.w3.org/2000/svg\" height=\"24px\"viewBox=\"0 0 24 24\"\n",
              "     width=\"24px\">\n",
              "    <g>\n",
              "        <path d=\"M19 3H5c-1.1 0-2 .9-2 2v14c0 1.1.9 2 2 2h14c1.1 0 2-.9 2-2V5c0-1.1-.9-2-2-2zM9 17H7v-7h2v7zm4 0h-2V7h2v10zm4 0h-2v-4h2v4z\"/>\n",
              "    </g>\n",
              "</svg>\n",
              "  </button>\n",
              "\n",
              "<style>\n",
              "  .colab-df-quickchart {\n",
              "      --bg-color: #E8F0FE;\n",
              "      --fill-color: #1967D2;\n",
              "      --hover-bg-color: #E2EBFA;\n",
              "      --hover-fill-color: #174EA6;\n",
              "      --disabled-fill-color: #AAA;\n",
              "      --disabled-bg-color: #DDD;\n",
              "  }\n",
              "\n",
              "  [theme=dark] .colab-df-quickchart {\n",
              "      --bg-color: #3B4455;\n",
              "      --fill-color: #D2E3FC;\n",
              "      --hover-bg-color: #434B5C;\n",
              "      --hover-fill-color: #FFFFFF;\n",
              "      --disabled-bg-color: #3B4455;\n",
              "      --disabled-fill-color: #666;\n",
              "  }\n",
              "\n",
              "  .colab-df-quickchart {\n",
              "    background-color: var(--bg-color);\n",
              "    border: none;\n",
              "    border-radius: 50%;\n",
              "    cursor: pointer;\n",
              "    display: none;\n",
              "    fill: var(--fill-color);\n",
              "    height: 32px;\n",
              "    padding: 0;\n",
              "    width: 32px;\n",
              "  }\n",
              "\n",
              "  .colab-df-quickchart:hover {\n",
              "    background-color: var(--hover-bg-color);\n",
              "    box-shadow: 0 1px 2px rgba(60, 64, 67, 0.3), 0 1px 3px 1px rgba(60, 64, 67, 0.15);\n",
              "    fill: var(--button-hover-fill-color);\n",
              "  }\n",
              "\n",
              "  .colab-df-quickchart-complete:disabled,\n",
              "  .colab-df-quickchart-complete:disabled:hover {\n",
              "    background-color: var(--disabled-bg-color);\n",
              "    fill: var(--disabled-fill-color);\n",
              "    box-shadow: none;\n",
              "  }\n",
              "\n",
              "  .colab-df-spinner {\n",
              "    border: 2px solid var(--fill-color);\n",
              "    border-color: transparent;\n",
              "    border-bottom-color: var(--fill-color);\n",
              "    animation:\n",
              "      spin 1s steps(1) infinite;\n",
              "  }\n",
              "\n",
              "  @keyframes spin {\n",
              "    0% {\n",
              "      border-color: transparent;\n",
              "      border-bottom-color: var(--fill-color);\n",
              "      border-left-color: var(--fill-color);\n",
              "    }\n",
              "    20% {\n",
              "      border-color: transparent;\n",
              "      border-left-color: var(--fill-color);\n",
              "      border-top-color: var(--fill-color);\n",
              "    }\n",
              "    30% {\n",
              "      border-color: transparent;\n",
              "      border-left-color: var(--fill-color);\n",
              "      border-top-color: var(--fill-color);\n",
              "      border-right-color: var(--fill-color);\n",
              "    }\n",
              "    40% {\n",
              "      border-color: transparent;\n",
              "      border-right-color: var(--fill-color);\n",
              "      border-top-color: var(--fill-color);\n",
              "    }\n",
              "    60% {\n",
              "      border-color: transparent;\n",
              "      border-right-color: var(--fill-color);\n",
              "    }\n",
              "    80% {\n",
              "      border-color: transparent;\n",
              "      border-right-color: var(--fill-color);\n",
              "      border-bottom-color: var(--fill-color);\n",
              "    }\n",
              "    90% {\n",
              "      border-color: transparent;\n",
              "      border-bottom-color: var(--fill-color);\n",
              "    }\n",
              "  }\n",
              "</style>\n",
              "\n",
              "  <script>\n",
              "    async function quickchart(key) {\n",
              "      const quickchartButtonEl =\n",
              "        document.querySelector('#' + key + ' button');\n",
              "      quickchartButtonEl.disabled = true;  // To prevent multiple clicks.\n",
              "      quickchartButtonEl.classList.add('colab-df-spinner');\n",
              "      try {\n",
              "        const charts = await google.colab.kernel.invokeFunction(\n",
              "            'suggestCharts', [key], {});\n",
              "      } catch (error) {\n",
              "        console.error('Error during call to suggestCharts:', error);\n",
              "      }\n",
              "      quickchartButtonEl.classList.remove('colab-df-spinner');\n",
              "      quickchartButtonEl.classList.add('colab-df-quickchart-complete');\n",
              "    }\n",
              "    (() => {\n",
              "      let quickchartButtonEl =\n",
              "        document.querySelector('#df-2204f12c-b0a3-452f-9fcb-e616e27a45b7 button');\n",
              "      quickchartButtonEl.style.display =\n",
              "        google.colab.kernel.accessAllowed ? 'block' : 'none';\n",
              "    })();\n",
              "  </script>\n",
              "</div>\n",
              "\n",
              "    </div>\n",
              "  </div>\n"
            ],
            "application/vnd.google.colaboratory.intrinsic+json": {
              "type": "dataframe",
              "variable_name": "df",
              "summary": "{\n  \"name\": \"df\",\n  \"rows\": 2225,\n  \"fields\": [\n    {\n      \"column\": \"text\",\n      \"properties\": {\n        \"dtype\": \"string\",\n        \"num_unique_values\": 2092,\n        \"samples\": [\n          \"  A late header by teenager Danny Graham earned Middlesbrough a battling draw with Charlton at the Riverside.  Matt Holland had put the visitors ahead in the 14th minute after his shot took a deflection off Franck Queudrue. But Middlesbrough peppered the Charlton goal after the break and Chris Riggott stroked home the equaliser. Shaun Bartlett's strike put Charlton back in front but that lead lasted just six minutes before Graham rushed onto Queudrue's pass to head home. The match burst to life from the whistle and Charlton defender Hermann Hreidarsson had sight of an open goal after just six minutes. Hreidarsson received Danny Murphy's free-kick from the right but he crashed his free header wide of the far post. The Iceland international looked such a danger the Boro bench could be heard issuing frantic instructions to mark him.  Charlton's early pressure paid off when Bartlett received a long ball from Talal El Karkouri in the box and laid it off to Holland who buried his right-footed strike. Szilard Nemeth, recalled in place of Joseph-Desire Job, was twice denied his chance to get Middlesbrough back on level terms by Dean Kiely. The striker played a great one-two with Jimmy Floyd Hasselbaink only to see Kiely get down well to smother his shot before directing a header straight into the keeper's arms. Boro had plenty of time on the ball but the Addicks comfortably mopped up the pressure - with Kiely tipping a Hasselbaink header over the bar - to take their lead into half-time.  It was all one-way traffic after the break at the Riverside as Middlesbrough poured forward and Kiely even saved Hreidarsson's blushes when he palmed the ball away to prevent a Charlton own goal. But the Addicks keeper could do nothing about Riggott's equaliser in the 74th minute. The Boro defender looked suspiciously offside as he got on the end of Gareth Southgate's misdirected effort, but despite the Charlton protests his goal stood. The Addicks did not let their heads drop and Bartlett left the Boro defence standing, picking up Hreidarsson's cross to easily sink his right-footed strike. But substitute Graham was on hand to grab a share of the points for the home side. The 19-year-old striker nodding home the equaliser - and his first Premiership goal - with five minutes left on the clock.  \\\"I felt we did enough to win the game even though the first half was lacklustre. \\\"We dominated after the break, the players showed a fantastic response and we should have gone on to win. \\\"But for (Charlton goalkeeper) Dean Kiely, who made three tremendous saves, we could have scored five or six.\\\"  \\\"To take the lead and then to get penned back, it feels a little bit like a defeat,\\\" admitted Kiely. \\\"We were winning but Middlesbrough kept knocking on the door. But we stood up and credit to us we didn't capitulate. \\\"We'll kick on now. Our short-term ambition is to progress from the seventh place finish from last year.\\\"  Nash, Reiziger (Graham 82), Riggott, Southgate, Queudrue, Parlour (Job 86), Doriva, Nemeth (Parnaby 87), Zenden, Downing, Hasselbaink.  Subs Not Used: Cooper, Knight.  Riggott 74, Graham 86.  Kiely, Hreidarsson, Perry, El Karkouri, Young, Konchesky, Murphy (Euell 78), Holland, Kishishev, Thomas (Johansson 72), Bartlett.  Subs Not Used: Fish, Jeffers, Andersen.  Konchesky, Hreidarsson, Perry.  Holland 14, Bartlett 80.  29,603  M Riley (W Yorkshire).\",\n          \"  You can now buy \\\"trusted computers\\\", but can we really trust the PC vendors, asks technology analyst Bill Thompson.  If you have recently bought an IBM ThinkVantage computer, a Dell Optiplex, or one of a whole range of laptops from Toshiba, HP/Compaq or Samsung then you may have got more for your money than you realised. Inside your shiny new PC is an extra chip called the trusted platform module (TPM) that can be used for a range of hardware-based security features. Eventually the TPM will be built into the main processor itself, and if the trusted computing group has its way then you will find one in every piece of hardware you own, from mobile phones to TV set top boxes to children's toys. But for the moment it is a separate piece of hardware, providing enhanced security features to programs that know how to use them. And as part of a well-designed network system, it can provide a lot more security than we enjoy today. A big advantage of the TPM is that it is hardware-based.  At the moment most of us rely on software to keep our information safe and secure. It might be password-protected user accounts, data encryption programs or a firewall, but it all relies on program code running on an inherently insecure processor.  Hardware security is less common, even if it is a lot safer. This is partly because it is more expensive to give someone a smartcard than a password, but also because its more work for users, systems administrators and managers. As a result we settle for second best. So when it comes to computer security, trusted systems could be a major step forward. After all, if you have a laptop that will only run programs that have been digitally signed then it will be a lot harder for virus writers to get their malicious code to run. And if all your files are locked automatically then even if you get your computer stolen your personal data will be safeguarded. At the moment support for trusted hardware is not built into major operating systems. Instead you have to use special software, like HP's ProtectTools or Wave Systems' Embassy. This provides file encryption, password management and identity protection, usually for business users who connect to company networks. Full support for the trusted computing specification will not be available from Microsoft until the next release of Windows, \\\"Longhorn\\\". This will include what Microsoft, in a typical act of obscurantism, calls the \\\"Next Generation Secure Computing Base\\\", and it will give user-level programs access to the trusted computing hardware. When that happens we can expect to see a lot of publicity around the new capabilities, and no doubt the Windows security centre will encourage users to turn on their trusted computing capability just as they turn on their firewall. However there is a downside to the increased security from viruses, spyware and data theft that this will provide.  Because the trusted computing base is also used to make digital rights management (DRM) systems more secure, this will give content providers a lot more control over what we can do with music, movies and books that we have bought from them. We have seen recently how allowing digital rights management services into our lives can lead to unwelcome consequences. Users of Apple's iTunes used to be able to stream the music they had brought to up to five other iTunes users, a great way of letting your mates discover your music collection.  But the latest version of iTunes limits this capability, just as an earlier upgrade reduced the number of times you could burn a selected playlist of purchased songs to a CD. Another took away the ability to play songs downloaded from Real's Harmony service on your iPod. Apple can do this because they wrote the software and they control the rights management. Once it is embedded in trusted hardware it will be even harder for dedicated programmers to find their way around these restrictions and give us back the fair use rights that should be guaranteed under copyright law. Similarly, users of TiVo digital video recorders have found that they cannot record some shows, and other programmes that they have recorded are automatically deleted after a day. This happens because of changes that TiVo have made to their software, and the users cannot control it. One wonders whether hardware-based DRM will work for those who believe that locking-down digital content is a bad idea, and that the flexibility of copyright law is something that should be embraced and not taken away. It will not work because of the fundamental flaw at the heart of the system: in order for the purchaser to view the content it has to be unlocked. Once it is unlocked then someone, somewhere, will figure out a way to make a copy of the unlocked version. And once an unlocked version leaks onto the network it will be uncontrollable. The efforts going into DRM would be much better spent building efficient distribution services, finding business models that are based on trusting your customers, and offering high quality downloads at fair prices. What we want is not so much a trusted computing platform as a trusted customer platform. The record companies and the film industry need to recognise that most of us, most of the time, will pay a reasonable amount for good quality material. They will benefit more by building a market in which I can share songs with my friends, record shows I want to watch later, and burn CDs for my kids; a market which respects the spirit of copyright law and does not seek to replace it by restrictive contracts or end user agreements. We need to ensure that trusted computing remains under the control of the users and is not used to take away the freedoms we enjoy today.  Bill Thompson is a regular commentator on the BBC World Service programme Go Digital.\",\n          \"  Nasa is doing it, 14-year-old boys in bedrooms are doing it, couples are doing it, gadget lovers - male and female - are definitely doing it.  It is podcasting - DIY radio in the form of downloadable MP3 audio files. They can done by anyone who has a microphone, simple software, the net, and something to say. Some liken them to talking \\\"audioblogs\\\" because many complement text-based weblogs - diary-like sites where people share their thoughts. They are essentially amateur radio shows on the net, on demand, and the \\\"movement\\\" is at very early stages. \\\"It's about real people saying real things and communicating,\\\" says Adam Curry, former MTV VJ and the Pied Piper of podcasting. He was one of a community of people who created iPodder, a small computer program, known as an \\\"aggregator\\\".  It collects and automatically sends MP3 files to any digital music-playing device that can play WMP formats. Those with digital music players can select which podcasts they like, and subscribe - for free - to that show's \\\"feed\\\". When a new podcast is available, it is automatically sent to the device when connected to a computer. \\\"It is totally going to kill the business model of radio,\\\" thinks Curry. \\\"I just did a tour of Madison Avenue where all the big brands and advertising agencies of the world are,\\\" he says. \\\"And they are scared to death of the next generation - like my daughter who is 14 - who don't listen to radio. \\\"They are on MSN, they've got their iPod, their MP3 player, they've got their Xbox - they are not listening to radio. \\\"So how are they going to reach these audiences? \\\"It is the distribution that is changing and the barriers are being brought down so everyone can be part of it.\\\"  It is a fledgling movement, but it is gaining momentum now that people have started thinking about how to make a business from it. Ian Fogg, Jupiter Research analyst, thinks there could be potential for business, but it could take an interesting turn if big companies, like Apple and Microsoft, get involved. \\\"It is a nascent area but quite exciting. It is yet another area that demonstrates the move to a digital lifestyle and digital home is not over,\\\" he says.  \\\"Podcasting is one of those interesting areas that bridges what you do at home and what you do out and about - a classic hybrid. It is another aspect of the \\\"time-shifting\\\" of content - the latest industry buzzword for being able to listen to what you want, when, and wherever you want. Audiences are in the 10s, 100s, and 1,000s rather than millions. More than 4,300 podcasts are currently listed. Curry's Daily Source Code - which he committed to doing daily to inspire the community - has 10s of thousands of listeners.  But Dave Winer is doubtful. He designed the format called RSS (Really Simple Syndication), which gives web users an easy way to keep updated automatically on sites they like. Podcasts rely on his technology because it is the way they are distributed. He is also writer of the longest-running weblog on the net, Scripting News. He thinks its power lies in its democratising potential, not in its \\\"over-hyped\\\" business promise.  \\\"We're the sources, the people doing stuff, and podcasting is a way to tell people who care what we're doing. \\\"No matter how you look at it, commercialising this medium isn't going to make very much money,\\\" he says. \\\"Podcasting is going to be a medium of niches, with 'audiences' measured in the single digits, like e-mail or blogs. \\\"Maybe in a few years, maybe six or seven digits. But it will have to sustain interest beyond the hype balloon.\\\" Curry and associate Ron Bloom's new venture, called PodShow, is to help ordinary people produce, post, distribute and market their podcasts. Because of the way podcasts work, based on RSS, the latest podcasts which people can select mean that they are ready-made targets. \\\"When you look at podcasting - wow this is a pretty interesting audience. The audience is pre-selected. They have decided to subscribe to your program,\\\" explains Curry. Advertising, in his eyes, can be tailored to podcasts, to make it more imaginative and unobtrusive. \\\"How I believe this will work, is to create a network that, in aggregation, will have enough numbers to support a return on investment for the advertisers and for the podcasters. \\\"I have 50, 60, 70,000 listeners. I could make a couple of bucks off that, but not much. If you are talking a million podcasters, and then you can kind of divide that amongst ourselves, then that is kind of interesting.\\\" Essentially, he says, if you are doing a bass fishing podcast, someone who is selling bait and tackle will probably want to advertise on your show. He is clear the ads will not be the traditional \\\"in-your-face\\\" type familiar to commercial radio now. \\\"We are really going to see these microcosms and commerce will be all over the place.\\\"  It is happening already. Coffee-loving Curry has sold $4,000 worth of coffee machines through a referral link to Amazon from his site.  Others use in-show promotions, like The Dawn and Drew Show. One, Eric Rice, has won sponsorship from Warner Bros. He can now legally play the music of a band Warner Bros wants to push. Some commentators on the net say it has a similar feel to the dotcom days. Others say it is just another element of setting media free from big companies and letting people be creative. One thing is for sure; they are not about to disappear in a hurry. The creative forces behind radio are elated, says Curry. For now, he tunes out the negative comments within the podcasting community. \\\"I should be knighted for this,\\\" he adds, with a wry chuckle, \\\"People are going to be so happy to sit at home, make their podcast, and make a little money.\\\"\"\n        ],\n        \"semantic_type\": \"\",\n        \"description\": \"\"\n      }\n    },\n    {\n      \"column\": \"label\",\n      \"properties\": {\n        \"dtype\": \"category\",\n        \"num_unique_values\": 5,\n        \"samples\": [\n          \"business\",\n          \"entertainment\",\n          \"sport\"\n        ],\n        \"semantic_type\": \"\",\n        \"description\": \"\"\n      }\n    }\n  ]\n}"
            }
          },
          "metadata": {},
          "execution_count": 29
        }
      ]
    },
    {
      "cell_type": "code",
      "source": [
        "df[\"label\"].value_counts()"
      ],
      "metadata": {
        "colab": {
          "base_uri": "https://localhost:8080/",
          "height": 272
        },
        "id": "uTtsZoLU7ngH",
        "outputId": "65881bc0-6b18-4677-a181-c8c349a4ec7a"
      },
      "execution_count": 30,
      "outputs": [
        {
          "output_type": "execute_result",
          "data": {
            "text/plain": [
              "label\n",
              "sport            511\n",
              "business         510\n",
              "politics         417\n",
              "tech             401\n",
              "entertainment    386\n",
              "Name: count, dtype: int64"
            ],
            "text/html": [
              "<div>\n",
              "<style scoped>\n",
              "    .dataframe tbody tr th:only-of-type {\n",
              "        vertical-align: middle;\n",
              "    }\n",
              "\n",
              "    .dataframe tbody tr th {\n",
              "        vertical-align: top;\n",
              "    }\n",
              "\n",
              "    .dataframe thead th {\n",
              "        text-align: right;\n",
              "    }\n",
              "</style>\n",
              "<table border=\"1\" class=\"dataframe\">\n",
              "  <thead>\n",
              "    <tr style=\"text-align: right;\">\n",
              "      <th></th>\n",
              "      <th>count</th>\n",
              "    </tr>\n",
              "    <tr>\n",
              "      <th>label</th>\n",
              "      <th></th>\n",
              "    </tr>\n",
              "  </thead>\n",
              "  <tbody>\n",
              "    <tr>\n",
              "      <th>sport</th>\n",
              "      <td>511</td>\n",
              "    </tr>\n",
              "    <tr>\n",
              "      <th>business</th>\n",
              "      <td>510</td>\n",
              "    </tr>\n",
              "    <tr>\n",
              "      <th>politics</th>\n",
              "      <td>417</td>\n",
              "    </tr>\n",
              "    <tr>\n",
              "      <th>tech</th>\n",
              "      <td>401</td>\n",
              "    </tr>\n",
              "    <tr>\n",
              "      <th>entertainment</th>\n",
              "      <td>386</td>\n",
              "    </tr>\n",
              "  </tbody>\n",
              "</table>\n",
              "</div><br><label><b>dtype:</b> int64</label>"
            ]
          },
          "metadata": {},
          "execution_count": 30
        }
      ]
    },
    {
      "cell_type": "code",
      "source": [
        "label_mapping = {\"sport\": 0, \"business\": 1, \"politics\": 2, \"tech\": 3, \"entertainment\": 4}\n",
        "df[\"label\"]=df.label.map(label_mapping)"
      ],
      "metadata": {
        "id": "l5dAIFKe7pIj"
      },
      "execution_count": 31,
      "outputs": []
    },
    {
      "cell_type": "code",
      "source": [
        "df[\"label\"].value_counts()"
      ],
      "metadata": {
        "colab": {
          "base_uri": "https://localhost:8080/",
          "height": 272
        },
        "id": "M8QGFVrJ7qdM",
        "outputId": "31e0bcd7-36ee-4812-9d92-4eb15b58a9d8"
      },
      "execution_count": 32,
      "outputs": [
        {
          "output_type": "execute_result",
          "data": {
            "text/plain": [
              "label\n",
              "0    511\n",
              "1    510\n",
              "2    417\n",
              "3    401\n",
              "4    386\n",
              "Name: count, dtype: int64"
            ],
            "text/html": [
              "<div>\n",
              "<style scoped>\n",
              "    .dataframe tbody tr th:only-of-type {\n",
              "        vertical-align: middle;\n",
              "    }\n",
              "\n",
              "    .dataframe tbody tr th {\n",
              "        vertical-align: top;\n",
              "    }\n",
              "\n",
              "    .dataframe thead th {\n",
              "        text-align: right;\n",
              "    }\n",
              "</style>\n",
              "<table border=\"1\" class=\"dataframe\">\n",
              "  <thead>\n",
              "    <tr style=\"text-align: right;\">\n",
              "      <th></th>\n",
              "      <th>count</th>\n",
              "    </tr>\n",
              "    <tr>\n",
              "      <th>label</th>\n",
              "      <th></th>\n",
              "    </tr>\n",
              "  </thead>\n",
              "  <tbody>\n",
              "    <tr>\n",
              "      <th>0</th>\n",
              "      <td>511</td>\n",
              "    </tr>\n",
              "    <tr>\n",
              "      <th>1</th>\n",
              "      <td>510</td>\n",
              "    </tr>\n",
              "    <tr>\n",
              "      <th>2</th>\n",
              "      <td>417</td>\n",
              "    </tr>\n",
              "    <tr>\n",
              "      <th>3</th>\n",
              "      <td>401</td>\n",
              "    </tr>\n",
              "    <tr>\n",
              "      <th>4</th>\n",
              "      <td>386</td>\n",
              "    </tr>\n",
              "  </tbody>\n",
              "</table>\n",
              "</div><br><label><b>dtype:</b> int64</label>"
            ]
          },
          "metadata": {},
          "execution_count": 32
        }
      ]
    },
    {
      "cell_type": "code",
      "source": [
        "import re"
      ],
      "metadata": {
        "id": "n9-TQCIv7sT1"
      },
      "execution_count": 33,
      "outputs": []
    },
    {
      "cell_type": "code",
      "source": [
        "def clean_text(text):\n",
        "    text = text.lower()\n",
        "    text = re.sub('<.*?>', '', text)\n",
        "    text = re.sub('http\\S+', '', text)\n",
        "    text = re.sub(\"[^a-zA-Z0-9\\s]\", \"\", text)\n",
        "    text = re.sub(\"\\s+\", \" \", text).strip()\n",
        "    return text"
      ],
      "metadata": {
        "id": "i7fWSbVr7t4P"
      },
      "execution_count": 34,
      "outputs": []
    },
    {
      "cell_type": "code",
      "source": [
        "df[\"clean_text\"]= df[\"text\"].apply(clean_text)"
      ],
      "metadata": {
        "id": "McH-ljnz7vVo"
      },
      "execution_count": 35,
      "outputs": []
    },
    {
      "cell_type": "code",
      "source": [
        "%pip install datasets"
      ],
      "metadata": {
        "colab": {
          "base_uri": "https://localhost:8080/",
          "height": 0
        },
        "id": "9H0-DP6Z7xCi",
        "outputId": "4be28ba6-d908-4189-8408-02574b4ba279"
      },
      "execution_count": 36,
      "outputs": [
        {
          "output_type": "stream",
          "name": "stdout",
          "text": [
            "Requirement already satisfied: datasets in /usr/local/lib/python3.10/dist-packages (2.20.0)\n",
            "Requirement already satisfied: filelock in /usr/local/lib/python3.10/dist-packages (from datasets) (3.15.4)\n",
            "Requirement already satisfied: numpy>=1.17 in /usr/local/lib/python3.10/dist-packages (from datasets) (1.26.4)\n",
            "Requirement already satisfied: pyarrow>=15.0.0 in /usr/local/lib/python3.10/dist-packages (from datasets) (17.0.0)\n",
            "Requirement already satisfied: pyarrow-hotfix in /usr/local/lib/python3.10/dist-packages (from datasets) (0.6)\n",
            "Requirement already satisfied: dill<0.3.9,>=0.3.0 in /usr/local/lib/python3.10/dist-packages (from datasets) (0.3.8)\n",
            "Requirement already satisfied: pandas in /usr/local/lib/python3.10/dist-packages (from datasets) (2.1.4)\n",
            "Requirement already satisfied: requests>=2.32.2 in /usr/local/lib/python3.10/dist-packages (from datasets) (2.32.3)\n",
            "Requirement already satisfied: tqdm>=4.66.3 in /usr/local/lib/python3.10/dist-packages (from datasets) (4.66.5)\n",
            "Requirement already satisfied: xxhash in /usr/local/lib/python3.10/dist-packages (from datasets) (3.4.1)\n",
            "Requirement already satisfied: multiprocess in /usr/local/lib/python3.10/dist-packages (from datasets) (0.70.16)\n",
            "Requirement already satisfied: fsspec<=2024.5.0,>=2023.1.0 in /usr/local/lib/python3.10/dist-packages (from fsspec[http]<=2024.5.0,>=2023.1.0->datasets) (2024.5.0)\n",
            "Requirement already satisfied: aiohttp in /usr/local/lib/python3.10/dist-packages (from datasets) (3.10.1)\n",
            "Requirement already satisfied: huggingface-hub>=0.21.2 in /usr/local/lib/python3.10/dist-packages (from datasets) (0.23.5)\n",
            "Requirement already satisfied: packaging in /usr/local/lib/python3.10/dist-packages (from datasets) (24.1)\n",
            "Requirement already satisfied: pyyaml>=5.1 in /usr/local/lib/python3.10/dist-packages (from datasets) (6.0.1)\n",
            "Requirement already satisfied: aiohappyeyeballs>=2.3.0 in /usr/local/lib/python3.10/dist-packages (from aiohttp->datasets) (2.3.4)\n",
            "Requirement already satisfied: aiosignal>=1.1.2 in /usr/local/lib/python3.10/dist-packages (from aiohttp->datasets) (1.3.1)\n",
            "Requirement already satisfied: attrs>=17.3.0 in /usr/local/lib/python3.10/dist-packages (from aiohttp->datasets) (24.1.0)\n",
            "Requirement already satisfied: frozenlist>=1.1.1 in /usr/local/lib/python3.10/dist-packages (from aiohttp->datasets) (1.4.1)\n",
            "Requirement already satisfied: multidict<7.0,>=4.5 in /usr/local/lib/python3.10/dist-packages (from aiohttp->datasets) (6.0.5)\n",
            "Requirement already satisfied: yarl<2.0,>=1.0 in /usr/local/lib/python3.10/dist-packages (from aiohttp->datasets) (1.9.4)\n",
            "Requirement already satisfied: async-timeout<5.0,>=4.0 in /usr/local/lib/python3.10/dist-packages (from aiohttp->datasets) (4.0.3)\n",
            "Requirement already satisfied: typing-extensions>=3.7.4.3 in /usr/local/lib/python3.10/dist-packages (from huggingface-hub>=0.21.2->datasets) (4.12.2)\n",
            "Requirement already satisfied: charset-normalizer<4,>=2 in /usr/local/lib/python3.10/dist-packages (from requests>=2.32.2->datasets) (3.3.2)\n",
            "Requirement already satisfied: idna<4,>=2.5 in /usr/local/lib/python3.10/dist-packages (from requests>=2.32.2->datasets) (3.7)\n",
            "Requirement already satisfied: urllib3<3,>=1.21.1 in /usr/local/lib/python3.10/dist-packages (from requests>=2.32.2->datasets) (2.0.7)\n",
            "Requirement already satisfied: certifi>=2017.4.17 in /usr/local/lib/python3.10/dist-packages (from requests>=2.32.2->datasets) (2024.7.4)\n",
            "Requirement already satisfied: python-dateutil>=2.8.2 in /usr/local/lib/python3.10/dist-packages (from pandas->datasets) (2.8.2)\n",
            "Requirement already satisfied: pytz>=2020.1 in /usr/local/lib/python3.10/dist-packages (from pandas->datasets) (2024.1)\n",
            "Requirement already satisfied: tzdata>=2022.1 in /usr/local/lib/python3.10/dist-packages (from pandas->datasets) (2024.1)\n",
            "Requirement already satisfied: six>=1.5 in /usr/local/lib/python3.10/dist-packages (from python-dateutil>=2.8.2->pandas->datasets) (1.16.0)\n"
          ]
        }
      ]
    },
    {
      "cell_type": "code",
      "source": [
        "%pip install transformers"
      ],
      "metadata": {
        "colab": {
          "base_uri": "https://localhost:8080/",
          "height": 0
        },
        "id": "tASHZTTB7yQX",
        "outputId": "4476fa03-842c-4b48-c9f4-aa3d9c1ab22e"
      },
      "execution_count": 37,
      "outputs": [
        {
          "output_type": "stream",
          "name": "stdout",
          "text": [
            "Requirement already satisfied: transformers in /usr/local/lib/python3.10/dist-packages (4.42.4)\n",
            "Requirement already satisfied: filelock in /usr/local/lib/python3.10/dist-packages (from transformers) (3.15.4)\n",
            "Requirement already satisfied: huggingface-hub<1.0,>=0.23.2 in /usr/local/lib/python3.10/dist-packages (from transformers) (0.23.5)\n",
            "Requirement already satisfied: numpy<2.0,>=1.17 in /usr/local/lib/python3.10/dist-packages (from transformers) (1.26.4)\n",
            "Requirement already satisfied: packaging>=20.0 in /usr/local/lib/python3.10/dist-packages (from transformers) (24.1)\n",
            "Requirement already satisfied: pyyaml>=5.1 in /usr/local/lib/python3.10/dist-packages (from transformers) (6.0.1)\n",
            "Requirement already satisfied: regex!=2019.12.17 in /usr/local/lib/python3.10/dist-packages (from transformers) (2024.5.15)\n",
            "Requirement already satisfied: requests in /usr/local/lib/python3.10/dist-packages (from transformers) (2.32.3)\n",
            "Requirement already satisfied: safetensors>=0.4.1 in /usr/local/lib/python3.10/dist-packages (from transformers) (0.4.4)\n",
            "Requirement already satisfied: tokenizers<0.20,>=0.19 in /usr/local/lib/python3.10/dist-packages (from transformers) (0.19.1)\n",
            "Requirement already satisfied: tqdm>=4.27 in /usr/local/lib/python3.10/dist-packages (from transformers) (4.66.5)\n",
            "Requirement already satisfied: fsspec>=2023.5.0 in /usr/local/lib/python3.10/dist-packages (from huggingface-hub<1.0,>=0.23.2->transformers) (2024.5.0)\n",
            "Requirement already satisfied: typing-extensions>=3.7.4.3 in /usr/local/lib/python3.10/dist-packages (from huggingface-hub<1.0,>=0.23.2->transformers) (4.12.2)\n",
            "Requirement already satisfied: charset-normalizer<4,>=2 in /usr/local/lib/python3.10/dist-packages (from requests->transformers) (3.3.2)\n",
            "Requirement already satisfied: idna<4,>=2.5 in /usr/local/lib/python3.10/dist-packages (from requests->transformers) (3.7)\n",
            "Requirement already satisfied: urllib3<3,>=1.21.1 in /usr/local/lib/python3.10/dist-packages (from requests->transformers) (2.0.7)\n",
            "Requirement already satisfied: certifi>=2017.4.17 in /usr/local/lib/python3.10/dist-packages (from requests->transformers) (2024.7.4)\n"
          ]
        }
      ]
    },
    {
      "cell_type": "code",
      "source": [
        "%pip install accelerate"
      ],
      "metadata": {
        "colab": {
          "base_uri": "https://localhost:8080/",
          "height": 0
        },
        "id": "gMjq_lb97z9_",
        "outputId": "e8f16190-001e-413a-cdcb-c0a80aca3df9"
      },
      "execution_count": 38,
      "outputs": [
        {
          "output_type": "stream",
          "name": "stdout",
          "text": [
            "Requirement already satisfied: accelerate in /usr/local/lib/python3.10/dist-packages (0.32.1)\n",
            "Requirement already satisfied: numpy<2.0.0,>=1.17 in /usr/local/lib/python3.10/dist-packages (from accelerate) (1.26.4)\n",
            "Requirement already satisfied: packaging>=20.0 in /usr/local/lib/python3.10/dist-packages (from accelerate) (24.1)\n",
            "Requirement already satisfied: psutil in /usr/local/lib/python3.10/dist-packages (from accelerate) (5.9.5)\n",
            "Requirement already satisfied: pyyaml in /usr/local/lib/python3.10/dist-packages (from accelerate) (6.0.1)\n",
            "Requirement already satisfied: torch>=1.10.0 in /usr/local/lib/python3.10/dist-packages (from accelerate) (2.3.1+cu121)\n",
            "Requirement already satisfied: huggingface-hub in /usr/local/lib/python3.10/dist-packages (from accelerate) (0.23.5)\n",
            "Requirement already satisfied: safetensors>=0.3.1 in /usr/local/lib/python3.10/dist-packages (from accelerate) (0.4.4)\n",
            "Requirement already satisfied: filelock in /usr/local/lib/python3.10/dist-packages (from torch>=1.10.0->accelerate) (3.15.4)\n",
            "Requirement already satisfied: typing-extensions>=4.8.0 in /usr/local/lib/python3.10/dist-packages (from torch>=1.10.0->accelerate) (4.12.2)\n",
            "Requirement already satisfied: sympy in /usr/local/lib/python3.10/dist-packages (from torch>=1.10.0->accelerate) (1.13.1)\n",
            "Requirement already satisfied: networkx in /usr/local/lib/python3.10/dist-packages (from torch>=1.10.0->accelerate) (3.3)\n",
            "Requirement already satisfied: jinja2 in /usr/local/lib/python3.10/dist-packages (from torch>=1.10.0->accelerate) (3.1.4)\n",
            "Requirement already satisfied: fsspec in /usr/local/lib/python3.10/dist-packages (from torch>=1.10.0->accelerate) (2024.5.0)\n",
            "Requirement already satisfied: nvidia-cuda-nvrtc-cu12==12.1.105 in /usr/local/lib/python3.10/dist-packages (from torch>=1.10.0->accelerate) (12.1.105)\n",
            "Requirement already satisfied: nvidia-cuda-runtime-cu12==12.1.105 in /usr/local/lib/python3.10/dist-packages (from torch>=1.10.0->accelerate) (12.1.105)\n",
            "Requirement already satisfied: nvidia-cuda-cupti-cu12==12.1.105 in /usr/local/lib/python3.10/dist-packages (from torch>=1.10.0->accelerate) (12.1.105)\n",
            "Requirement already satisfied: nvidia-cudnn-cu12==8.9.2.26 in /usr/local/lib/python3.10/dist-packages (from torch>=1.10.0->accelerate) (8.9.2.26)\n",
            "Requirement already satisfied: nvidia-cublas-cu12==12.1.3.1 in /usr/local/lib/python3.10/dist-packages (from torch>=1.10.0->accelerate) (12.1.3.1)\n",
            "Requirement already satisfied: nvidia-cufft-cu12==11.0.2.54 in /usr/local/lib/python3.10/dist-packages (from torch>=1.10.0->accelerate) (11.0.2.54)\n",
            "Requirement already satisfied: nvidia-curand-cu12==10.3.2.106 in /usr/local/lib/python3.10/dist-packages (from torch>=1.10.0->accelerate) (10.3.2.106)\n",
            "Requirement already satisfied: nvidia-cusolver-cu12==11.4.5.107 in /usr/local/lib/python3.10/dist-packages (from torch>=1.10.0->accelerate) (11.4.5.107)\n",
            "Requirement already satisfied: nvidia-cusparse-cu12==12.1.0.106 in /usr/local/lib/python3.10/dist-packages (from torch>=1.10.0->accelerate) (12.1.0.106)\n",
            "Requirement already satisfied: nvidia-nccl-cu12==2.20.5 in /usr/local/lib/python3.10/dist-packages (from torch>=1.10.0->accelerate) (2.20.5)\n",
            "Requirement already satisfied: nvidia-nvtx-cu12==12.1.105 in /usr/local/lib/python3.10/dist-packages (from torch>=1.10.0->accelerate) (12.1.105)\n",
            "Requirement already satisfied: triton==2.3.1 in /usr/local/lib/python3.10/dist-packages (from torch>=1.10.0->accelerate) (2.3.1)\n",
            "Requirement already satisfied: nvidia-nvjitlink-cu12 in /usr/local/lib/python3.10/dist-packages (from nvidia-cusolver-cu12==11.4.5.107->torch>=1.10.0->accelerate) (12.6.20)\n",
            "Requirement already satisfied: requests in /usr/local/lib/python3.10/dist-packages (from huggingface-hub->accelerate) (2.32.3)\n",
            "Requirement already satisfied: tqdm>=4.42.1 in /usr/local/lib/python3.10/dist-packages (from huggingface-hub->accelerate) (4.66.5)\n",
            "Requirement already satisfied: MarkupSafe>=2.0 in /usr/local/lib/python3.10/dist-packages (from jinja2->torch>=1.10.0->accelerate) (2.1.5)\n",
            "Requirement already satisfied: charset-normalizer<4,>=2 in /usr/local/lib/python3.10/dist-packages (from requests->huggingface-hub->accelerate) (3.3.2)\n",
            "Requirement already satisfied: idna<4,>=2.5 in /usr/local/lib/python3.10/dist-packages (from requests->huggingface-hub->accelerate) (3.7)\n",
            "Requirement already satisfied: urllib3<3,>=1.21.1 in /usr/local/lib/python3.10/dist-packages (from requests->huggingface-hub->accelerate) (2.0.7)\n",
            "Requirement already satisfied: certifi>=2017.4.17 in /usr/local/lib/python3.10/dist-packages (from requests->huggingface-hub->accelerate) (2024.7.4)\n",
            "Requirement already satisfied: mpmath<1.4,>=1.1.0 in /usr/local/lib/python3.10/dist-packages (from sympy->torch>=1.10.0->accelerate) (1.3.0)\n"
          ]
        }
      ]
    },
    {
      "cell_type": "code",
      "source": [
        "import torch\n",
        "torch.cuda.is_available()"
      ],
      "metadata": {
        "colab": {
          "base_uri": "https://localhost:8080/",
          "height": 0
        },
        "id": "iT1SY_dH73Vl",
        "outputId": "c5e92376-b5aa-4f6e-d6ef-6b275c02396f"
      },
      "execution_count": 39,
      "outputs": [
        {
          "output_type": "execute_result",
          "data": {
            "text/plain": [
              "True"
            ]
          },
          "metadata": {},
          "execution_count": 39
        }
      ]
    },
    {
      "cell_type": "code",
      "source": [
        "from sklearn.model_selection import train_test_split"
      ],
      "metadata": {
        "id": "qFq92lJz8GLa"
      },
      "execution_count": 40,
      "outputs": []
    },
    {
      "cell_type": "code",
      "source": [
        "train_df, test_df = train_test_split(df, test_size=0.2)"
      ],
      "metadata": {
        "id": "BRvsjr0_8G67"
      },
      "execution_count": 91,
      "outputs": []
    },
    {
      "cell_type": "code",
      "source": [
        "from transformers import AutoTokenizer\n",
        "from datasets import load_dataset, Dataset, DatasetDict\n",
        "from transformers import DataCollatorWithPadding\n",
        "from transformers import AutoModelForSequenceClassification, TrainingArguments, Trainer\n",
        "import torch"
      ],
      "metadata": {
        "id": "e1nDNHv874UU"
      },
      "execution_count": 42,
      "outputs": []
    },
    {
      "cell_type": "code",
      "source": [
        "# Load tokenizer\n",
        "tokenizer = AutoTokenizer.from_pretrained(\"distilbert-base-uncased\")\n",
        "\n",
        "# Convert datasets to tokenized format\n",
        "train_dataset = Dataset.from_pandas(train_df)\n",
        "test_dataset = Dataset.from_pandas(test_df)\n",
        "dataset = DatasetDict({\n",
        "    \"train\": train_dataset,\n",
        "    \"test\": test_dataset\n",
        "})"
      ],
      "metadata": {
        "id": "aP8xBucs74XV"
      },
      "execution_count": 43,
      "outputs": []
    },
    {
      "cell_type": "code",
      "source": [
        "def tokenize_data(examples):\n",
        "    return tokenizer(examples[\"clean_text\"], truncation=True)\n",
        "dataset = dataset.map(tokenize_data, batched=True)"
      ],
      "metadata": {
        "colab": {
          "base_uri": "https://localhost:8080/",
          "height": 81,
          "referenced_widgets": [
            "ce06a3344662417ba0dc3acd0523c612",
            "973ce23e506044238af73ff8ad21e7fd",
            "d1264226aeee44a8836841955e384c68",
            "d4a8199fb3ae405d9673df580735a891",
            "893996880588461f9b9a9fae4a238381",
            "5bda23f150b04c8489f9445b3cacd5c6",
            "4ac72ea882a4498ab4459d112c36f9f7",
            "935c64a563ef42cbb912a6ec5ba469bf",
            "244f21dd60a3456bacc9dc82b49ce4ea",
            "aed7a7d6a600410fa4cbc3198fad6f11",
            "e6c6d6a8f69847ab9f14741d46cf22e8",
            "9981e0de9aa246fc84d44c832ce4b67e",
            "bd01ecd413bd44f49c6e205ce9e39b66",
            "d2b7f7fcb98a438c8f65a473258e36ce",
            "c503de3db1d3443fa7f8fa8aaa4a96c2",
            "74f52bfa57f141a6a1ea376cb122181d",
            "996310810d534d06a446f6a4c4eb4a7c",
            "964b95cb29ac4df6838af8e988aaa537",
            "b027c089d9374ae7ad4132d0a2a5ab16",
            "1412018b89f949d4ac5a49606f00d604",
            "8f52754615ed4f72bbb197afdb5673e8",
            "27256481d8c5407b96d1a0845165d7b7"
          ]
        },
        "id": "G5LjaIQQ74al",
        "outputId": "01210285-4413-4f02-b8ba-892e020ef583"
      },
      "execution_count": 44,
      "outputs": [
        {
          "output_type": "display_data",
          "data": {
            "text/plain": [
              "Map:   0%|          | 0/1780 [00:00<?, ? examples/s]"
            ],
            "application/vnd.jupyter.widget-view+json": {
              "version_major": 2,
              "version_minor": 0,
              "model_id": "ce06a3344662417ba0dc3acd0523c612"
            }
          },
          "metadata": {}
        },
        {
          "output_type": "display_data",
          "data": {
            "text/plain": [
              "Map:   0%|          | 0/445 [00:00<?, ? examples/s]"
            ],
            "application/vnd.jupyter.widget-view+json": {
              "version_major": 2,
              "version_minor": 0,
              "model_id": "9981e0de9aa246fc84d44c832ce4b67e"
            }
          },
          "metadata": {}
        }
      ]
    },
    {
      "cell_type": "code",
      "source": [
        "dataset"
      ],
      "metadata": {
        "colab": {
          "base_uri": "https://localhost:8080/",
          "height": 0
        },
        "id": "r1MjN4pk74dq",
        "outputId": "c6e4ddbe-22cc-4128-e11d-012622f3f361"
      },
      "execution_count": 45,
      "outputs": [
        {
          "output_type": "execute_result",
          "data": {
            "text/plain": [
              "DatasetDict({\n",
              "    train: Dataset({\n",
              "        features: ['text', 'label', 'clean_text', '__index_level_0__', 'input_ids', 'attention_mask'],\n",
              "        num_rows: 1780\n",
              "    })\n",
              "    test: Dataset({\n",
              "        features: ['text', 'label', 'clean_text', '__index_level_0__', 'input_ids', 'attention_mask'],\n",
              "        num_rows: 445\n",
              "    })\n",
              "})"
            ]
          },
          "metadata": {},
          "execution_count": 45
        }
      ]
    },
    {
      "cell_type": "code",
      "source": [
        "data_collator = DataCollatorWithPadding(tokenizer=tokenizer)\n",
        "model = AutoModelForSequenceClassification.from_pretrained(\"distilbert-base-uncased\", num_labels=5)"
      ],
      "metadata": {
        "colab": {
          "base_uri": "https://localhost:8080/",
          "height": 0
        },
        "id": "yzl9vu8y74g8",
        "outputId": "fdb5fd01-58c7-4f21-b65e-dbc4434f1b11"
      },
      "execution_count": 46,
      "outputs": [
        {
          "output_type": "stream",
          "name": "stderr",
          "text": [
            "Some weights of DistilBertForSequenceClassification were not initialized from the model checkpoint at distilbert-base-uncased and are newly initialized: ['classifier.bias', 'classifier.weight', 'pre_classifier.bias', 'pre_classifier.weight']\n",
            "You should probably TRAIN this model on a down-stream task to be able to use it for predictions and inference.\n"
          ]
        }
      ]
    },
    {
      "cell_type": "code",
      "source": [
        "training_args = TrainingArguments(\n",
        "    output_dir=\"./results\",\n",
        "    learning_rate=2e-5,\n",
        "    per_device_train_batch_size=16,\n",
        "    per_device_eval_batch_size=16,\n",
        "    num_train_epochs=10,\n",
        "    weight_decay=0.01,\n",
        ")\n",
        "\n",
        "trainer = Trainer(\n",
        "    model=model,\n",
        "    args=training_args,\n",
        "    train_dataset=dataset[\"train\"],\n",
        "    eval_dataset=dataset[\"test\"],\n",
        "    tokenizer=tokenizer,\n",
        "    data_collator=data_collator,\n",
        ")\n",
        "\n",
        "trainer.train()"
      ],
      "metadata": {
        "colab": {
          "base_uri": "https://localhost:8080/",
          "height": 173
        },
        "id": "Pr6BtsEY8cfZ",
        "outputId": "d16abf59-54e7-48a5-81d6-0702718d637a"
      },
      "execution_count": 47,
      "outputs": [
        {
          "output_type": "display_data",
          "data": {
            "text/plain": [
              "<IPython.core.display.HTML object>"
            ],
            "text/html": [
              "\n",
              "    <div>\n",
              "      \n",
              "      <progress value='1120' max='1120' style='width:300px; height:20px; vertical-align: middle;'></progress>\n",
              "      [1120/1120 15:18, Epoch 10/10]\n",
              "    </div>\n",
              "    <table border=\"1\" class=\"dataframe\">\n",
              "  <thead>\n",
              " <tr style=\"text-align: left;\">\n",
              "      <th>Step</th>\n",
              "      <th>Training Loss</th>\n",
              "    </tr>\n",
              "  </thead>\n",
              "  <tbody>\n",
              "    <tr>\n",
              "      <td>500</td>\n",
              "      <td>0.160800</td>\n",
              "    </tr>\n",
              "    <tr>\n",
              "      <td>1000</td>\n",
              "      <td>0.003000</td>\n",
              "    </tr>\n",
              "  </tbody>\n",
              "</table><p>"
            ]
          },
          "metadata": {}
        },
        {
          "output_type": "execute_result",
          "data": {
            "text/plain": [
              "TrainOutput(global_step=1120, training_loss=0.07329689268288868, metrics={'train_runtime': 919.1173, 'train_samples_per_second': 19.366, 'train_steps_per_second': 1.219, 'total_flos': 2356396125197520.0, 'train_loss': 0.07329689268288868, 'epoch': 10.0})"
            ]
          },
          "metadata": {},
          "execution_count": 47
        }
      ]
    },
    {
      "cell_type": "code",
      "source": [
        "# Save the trained model\n",
        "trainer.save_model('model')"
      ],
      "metadata": {
        "id": "sF1LaZ2J8e_O"
      },
      "execution_count": 48,
      "outputs": []
    },
    {
      "cell_type": "code",
      "source": [
        "# !zip -r export.zip results"
      ],
      "metadata": {
        "id": "0Q-bK5DfCc2Y"
      },
      "execution_count": 49,
      "outputs": []
    },
    {
      "cell_type": "code",
      "source": [
        "device = torch.device(\"cuda\"if torch.cuda.is_available() else\"cpu\")\n",
        "device"
      ],
      "metadata": {
        "colab": {
          "base_uri": "https://localhost:8080/",
          "height": 0
        },
        "id": "5c-hpiR9DUnM",
        "outputId": "16038c74-69d7-46c2-afc8-6e9742169aee"
      },
      "execution_count": 51,
      "outputs": [
        {
          "output_type": "execute_result",
          "data": {
            "text/plain": [
              "device(type='cuda')"
            ]
          },
          "metadata": {},
          "execution_count": 51
        }
      ]
    },
    {
      "cell_type": "code",
      "source": [
        "df1 = df[\"clean_text\"]\n",
        "df1.head(1)"
      ],
      "metadata": {
        "colab": {
          "base_uri": "https://localhost:8080/",
          "height": 115
        },
        "id": "Eif2fXcPHU02",
        "outputId": "a8169a44-40f4-464b-bcfb-b38f9dda2e5b"
      },
      "execution_count": 52,
      "outputs": [
        {
          "output_type": "execute_result",
          "data": {
            "text/plain": [
              "0    viewers could soon be rewarded for watching tv...\n",
              "Name: clean_text, dtype: object"
            ],
            "text/html": [
              "<div>\n",
              "<style scoped>\n",
              "    .dataframe tbody tr th:only-of-type {\n",
              "        vertical-align: middle;\n",
              "    }\n",
              "\n",
              "    .dataframe tbody tr th {\n",
              "        vertical-align: top;\n",
              "    }\n",
              "\n",
              "    .dataframe thead th {\n",
              "        text-align: right;\n",
              "    }\n",
              "</style>\n",
              "<table border=\"1\" class=\"dataframe\">\n",
              "  <thead>\n",
              "    <tr style=\"text-align: right;\">\n",
              "      <th></th>\n",
              "      <th>clean_text</th>\n",
              "    </tr>\n",
              "  </thead>\n",
              "  <tbody>\n",
              "    <tr>\n",
              "      <th>0</th>\n",
              "      <td>viewers could soon be rewarded for watching tv...</td>\n",
              "    </tr>\n",
              "  </tbody>\n",
              "</table>\n",
              "</div><br><label><b>dtype:</b> object</label>"
            ]
          },
          "metadata": {},
          "execution_count": 52
        }
      ]
    },
    {
      "cell_type": "code",
      "source": [
        "df1[1205]"
      ],
      "metadata": {
        "colab": {
          "base_uri": "https://localhost:8080/",
          "height": 123
        },
        "id": "MbRJYTRjJcHc",
        "outputId": "2b900575-ef2a-4740-8854-fbfafc673dc7"
      },
      "execution_count": 53,
      "outputs": [
        {
          "output_type": "execute_result",
          "data": {
            "text/plain": [
              "'wales coach mike ruddock has defended his decision not to release any of the international stars for this weekends regional celtic league fixtures ruddock says the players will benefit from the rest and their absence will give youngsters a chance to impress weve got the wru charter in place now which outlines exactly what happens ruddock told bbc wales sport once were in the six nations the players will only be released in his and the wrus best interests the ospreys and scarlets say they are happy to support the wales cause but the dragons have expressed disappointment at not being able to use their national squad players in fridays game with ulster ceri sweeney gareth cooper ian gough and kevin morgan have been used sparingly by ruddock in the opening two six nations wins and captain jason forster believes they would benefit from a game with the dragons im sure the guys would want to come back to get some game time forster told bbc wales sport it would also be a timely reminder to mike ruddock as to what they can do and the supporters want to see the star players no disrespect to the other guys performing on the pitch ruddock though is keen to protect his players from injury and fatigue at this stage theres nothing more the players can do in games to impress me further weve got to look at it at another angle and see the opportunities that are provided for the younger players in the region for example the dragons might use james ireland this weekend ive been looking at the lad hes a great prospect for the future french and english clubs have requested to have all their international players available which means stephen jones gareth thomas and mefin davies will play this weekend the majority of ireland and scotland players have also been released for provincial duty'"
            ],
            "application/vnd.google.colaboratory.intrinsic+json": {
              "type": "string"
            }
          },
          "metadata": {},
          "execution_count": 53
        }
      ]
    },
    {
      "cell_type": "code",
      "source": [
        "input_text = tokenizer(df1[1], return_tensors=\"pt\", truncation=True).to(device)\n",
        "prediction = model(**input_text)"
      ],
      "metadata": {
        "id": "NFyZO-3uH0na"
      },
      "execution_count": 54,
      "outputs": []
    },
    {
      "cell_type": "code",
      "source": [
        "prediction"
      ],
      "metadata": {
        "colab": {
          "base_uri": "https://localhost:8080/",
          "height": 0
        },
        "id": "-OUTY89sIpRB",
        "outputId": "bd94fbe9-e095-4b0d-bc00-de29ee8228c9"
      },
      "execution_count": 55,
      "outputs": [
        {
          "output_type": "execute_result",
          "data": {
            "text/plain": [
              "SequenceClassifierOutput(loss=None, logits=tensor([[-1.6756, -2.3231, -2.4569,  5.4186, -1.9118]], device='cuda:0',\n",
              "       grad_fn=<AddmmBackward0>), hidden_states=None, attentions=None)"
            ]
          },
          "metadata": {},
          "execution_count": 55
        }
      ]
    },
    {
      "cell_type": "code",
      "source": [
        "int(torch.argmax(prediction.logits, axis=1).detach())\n"
      ],
      "metadata": {
        "colab": {
          "base_uri": "https://localhost:8080/",
          "height": 0
        },
        "id": "2gTJVJBuIrUx",
        "outputId": "6d6d9c1c-6965-40e8-d7aa-198a0637fefa"
      },
      "execution_count": 56,
      "outputs": [
        {
          "output_type": "execute_result",
          "data": {
            "text/plain": [
              "3"
            ]
          },
          "metadata": {},
          "execution_count": 56
        }
      ]
    },
    {
      "cell_type": "code",
      "source": [
        "input_text = tokenizer(df1[1205], return_tensors=\"pt\", truncation=True).to(device)\n",
        "prediction = model(**input_text)"
      ],
      "metadata": {
        "id": "_mj4FxIGJs6_"
      },
      "execution_count": 57,
      "outputs": []
    },
    {
      "cell_type": "code",
      "source": [
        "prediction"
      ],
      "metadata": {
        "colab": {
          "base_uri": "https://localhost:8080/",
          "height": 0
        },
        "id": "CxIKI-qeJs4-",
        "outputId": "6364170a-9b09-459a-e564-79bd8dc760ea"
      },
      "execution_count": 58,
      "outputs": [
        {
          "output_type": "execute_result",
          "data": {
            "text/plain": [
              "SequenceClassifierOutput(loss=None, logits=tensor([[ 6.0985, -2.1404, -2.0249, -1.8135, -2.4597]], device='cuda:0',\n",
              "       grad_fn=<AddmmBackward0>), hidden_states=None, attentions=None)"
            ]
          },
          "metadata": {},
          "execution_count": 58
        }
      ]
    },
    {
      "cell_type": "code",
      "source": [
        "int(torch.argmax(prediction.logits, axis=1).detach())"
      ],
      "metadata": {
        "colab": {
          "base_uri": "https://localhost:8080/",
          "height": 0
        },
        "id": "CtKl23xmJs2O",
        "outputId": "c8bde29e-60da-4492-fa45-5a422376c2a0"
      },
      "execution_count": 59,
      "outputs": [
        {
          "output_type": "execute_result",
          "data": {
            "text/plain": [
              "0"
            ]
          },
          "metadata": {},
          "execution_count": 59
        }
      ]
    },
    {
      "cell_type": "code",
      "source": [
        "label_mapping = {0 : \"sport\", 1: \"business\", 2: \"politics\", 3: \"tech\", 4: \"entertainment\"}"
      ],
      "metadata": {
        "id": "PIyp32PRI5WB"
      },
      "execution_count": 60,
      "outputs": []
    },
    {
      "cell_type": "code",
      "source": [
        "label_mapping"
      ],
      "metadata": {
        "id": "T-5q61KpKu9u",
        "outputId": "ec060072-c1e2-4857-971d-69d573532508",
        "colab": {
          "base_uri": "https://localhost:8080/",
          "height": 0
        }
      },
      "execution_count": 61,
      "outputs": [
        {
          "output_type": "execute_result",
          "data": {
            "text/plain": [
              "{0: 'sport', 1: 'business', 2: 'politics', 3: 'tech', 4: 'entertainment'}"
            ]
          },
          "metadata": {},
          "execution_count": 61
        }
      ]
    },
    {
      "cell_type": "code",
      "source": [
        "len(test_df[\"clean_text\"])"
      ],
      "metadata": {
        "colab": {
          "base_uri": "https://localhost:8080/",
          "height": 0
        },
        "id": "jtAlS6_dJNcD",
        "outputId": "5bd7622f-e825-4fad-afea-980d0ad73980"
      },
      "execution_count": 63,
      "outputs": [
        {
          "output_type": "execute_result",
          "data": {
            "text/plain": [
              "445"
            ]
          },
          "metadata": {},
          "execution_count": 63
        }
      ]
    },
    {
      "cell_type": "code",
      "source": [],
      "metadata": {
        "id": "0KiF9MUJLCFx"
      },
      "execution_count": 76,
      "outputs": []
    },
    {
      "cell_type": "code",
      "source": [
        "y_pred = []\n",
        "for i in (test_df[\"clean_text\"]):\n",
        "  input_text = tokenizer(i, return_tensors=\"pt\", truncation=True).to(device)\n",
        "  prediction = model(**input_text)\n",
        "  y_pred.append(int(torch.argmax(prediction.logits, axis=1).detach()))\n",
        ""
      ],
      "metadata": {
        "id": "dMNoWxOIJNYf"
      },
      "execution_count": 79,
      "outputs": []
    },
    {
      "cell_type": "code",
      "source": [
        "len(y_pred)"
      ],
      "metadata": {
        "colab": {
          "base_uri": "https://localhost:8080/",
          "height": 0
        },
        "id": "d4hsBSNxMNs-",
        "outputId": "5423752c-61c7-48c1-b52f-8c01667bc779"
      },
      "execution_count": 86,
      "outputs": [
        {
          "output_type": "execute_result",
          "data": {
            "text/plain": [
              "445"
            ]
          },
          "metadata": {},
          "execution_count": 86
        }
      ]
    },
    {
      "cell_type": "code",
      "source": [
        "y_pred = pd.DataFrame(y_pred, columns= [\"Pred\"])"
      ],
      "metadata": {
        "id": "R5e5R7Y5Lnkp"
      },
      "execution_count": 93,
      "outputs": []
    },
    {
      "cell_type": "code",
      "source": [
        "test_df"
      ],
      "metadata": {
        "colab": {
          "base_uri": "https://localhost:8080/",
          "height": 423
        },
        "id": "RJPRlAGzNIMt",
        "outputId": "76f0fd50-fa26-4eba-ed29-c98948384147"
      },
      "execution_count": 95,
      "outputs": [
        {
          "output_type": "execute_result",
          "data": {
            "text/plain": [
              "                                                   text  label  \\\n",
              "414     Air passengers who are unable to board their...      1   \n",
              "420     Customers trying to get through to call cent...      1   \n",
              "1644    Two of Britain's big trade unions could merg...      2   \n",
              "416     Parmalat, the Italian food group at the cent...      1   \n",
              "1232    Murrayfield, Edinburgh  Saturday, 26 Februar...      0   \n",
              "...                                                 ...    ...   \n",
              "741     The ongoing public spat between the two heir...      1   \n",
              "205     Faster, better or funkier hardware alone is ...      3   \n",
              "1102    Martin O'Neill hopes to block Stilian Petrov...      0   \n",
              "668     Strong growth in subscriptions to mobile pho...      1   \n",
              "479     Venezuelan president Hugo Chavez has offered...      1   \n",
              "\n",
              "                                             clean_text  \n",
              "414   air passengers who are unable to board their f...  \n",
              "420   customers trying to get through to call centre...  \n",
              "1644  two of britains big trade unions could merge t...  \n",
              "416   parmalat the italian food group at the centre ...  \n",
              "1232  murrayfield edinburgh saturday 26 february 140...  \n",
              "...                                                 ...  \n",
              "741   the ongoing public spat between the two heirs ...  \n",
              "205   faster better or funkier hardware alone is not...  \n",
              "1102  martin oneill hopes to block stilian petrovs c...  \n",
              "668   strong growth in subscriptions to mobile phone...  \n",
              "479   venezuelan president hugo chavez has offered c...  \n",
              "\n",
              "[445 rows x 3 columns]"
            ],
            "text/html": [
              "\n",
              "  <div id=\"df-d6bc7047-eb97-46eb-b7ed-3ea6f13cab44\" class=\"colab-df-container\">\n",
              "    <div>\n",
              "<style scoped>\n",
              "    .dataframe tbody tr th:only-of-type {\n",
              "        vertical-align: middle;\n",
              "    }\n",
              "\n",
              "    .dataframe tbody tr th {\n",
              "        vertical-align: top;\n",
              "    }\n",
              "\n",
              "    .dataframe thead th {\n",
              "        text-align: right;\n",
              "    }\n",
              "</style>\n",
              "<table border=\"1\" class=\"dataframe\">\n",
              "  <thead>\n",
              "    <tr style=\"text-align: right;\">\n",
              "      <th></th>\n",
              "      <th>text</th>\n",
              "      <th>label</th>\n",
              "      <th>clean_text</th>\n",
              "    </tr>\n",
              "  </thead>\n",
              "  <tbody>\n",
              "    <tr>\n",
              "      <th>414</th>\n",
              "      <td>Air passengers who are unable to board their...</td>\n",
              "      <td>1</td>\n",
              "      <td>air passengers who are unable to board their f...</td>\n",
              "    </tr>\n",
              "    <tr>\n",
              "      <th>420</th>\n",
              "      <td>Customers trying to get through to call cent...</td>\n",
              "      <td>1</td>\n",
              "      <td>customers trying to get through to call centre...</td>\n",
              "    </tr>\n",
              "    <tr>\n",
              "      <th>1644</th>\n",
              "      <td>Two of Britain's big trade unions could merg...</td>\n",
              "      <td>2</td>\n",
              "      <td>two of britains big trade unions could merge t...</td>\n",
              "    </tr>\n",
              "    <tr>\n",
              "      <th>416</th>\n",
              "      <td>Parmalat, the Italian food group at the cent...</td>\n",
              "      <td>1</td>\n",
              "      <td>parmalat the italian food group at the centre ...</td>\n",
              "    </tr>\n",
              "    <tr>\n",
              "      <th>1232</th>\n",
              "      <td>Murrayfield, Edinburgh  Saturday, 26 Februar...</td>\n",
              "      <td>0</td>\n",
              "      <td>murrayfield edinburgh saturday 26 february 140...</td>\n",
              "    </tr>\n",
              "    <tr>\n",
              "      <th>...</th>\n",
              "      <td>...</td>\n",
              "      <td>...</td>\n",
              "      <td>...</td>\n",
              "    </tr>\n",
              "    <tr>\n",
              "      <th>741</th>\n",
              "      <td>The ongoing public spat between the two heir...</td>\n",
              "      <td>1</td>\n",
              "      <td>the ongoing public spat between the two heirs ...</td>\n",
              "    </tr>\n",
              "    <tr>\n",
              "      <th>205</th>\n",
              "      <td>Faster, better or funkier hardware alone is ...</td>\n",
              "      <td>3</td>\n",
              "      <td>faster better or funkier hardware alone is not...</td>\n",
              "    </tr>\n",
              "    <tr>\n",
              "      <th>1102</th>\n",
              "      <td>Martin O'Neill hopes to block Stilian Petrov...</td>\n",
              "      <td>0</td>\n",
              "      <td>martin oneill hopes to block stilian petrovs c...</td>\n",
              "    </tr>\n",
              "    <tr>\n",
              "      <th>668</th>\n",
              "      <td>Strong growth in subscriptions to mobile pho...</td>\n",
              "      <td>1</td>\n",
              "      <td>strong growth in subscriptions to mobile phone...</td>\n",
              "    </tr>\n",
              "    <tr>\n",
              "      <th>479</th>\n",
              "      <td>Venezuelan president Hugo Chavez has offered...</td>\n",
              "      <td>1</td>\n",
              "      <td>venezuelan president hugo chavez has offered c...</td>\n",
              "    </tr>\n",
              "  </tbody>\n",
              "</table>\n",
              "<p>445 rows × 3 columns</p>\n",
              "</div>\n",
              "    <div class=\"colab-df-buttons\">\n",
              "\n",
              "  <div class=\"colab-df-container\">\n",
              "    <button class=\"colab-df-convert\" onclick=\"convertToInteractive('df-d6bc7047-eb97-46eb-b7ed-3ea6f13cab44')\"\n",
              "            title=\"Convert this dataframe to an interactive table.\"\n",
              "            style=\"display:none;\">\n",
              "\n",
              "  <svg xmlns=\"http://www.w3.org/2000/svg\" height=\"24px\" viewBox=\"0 -960 960 960\">\n",
              "    <path d=\"M120-120v-720h720v720H120Zm60-500h600v-160H180v160Zm220 220h160v-160H400v160Zm0 220h160v-160H400v160ZM180-400h160v-160H180v160Zm440 0h160v-160H620v160ZM180-180h160v-160H180v160Zm440 0h160v-160H620v160Z\"/>\n",
              "  </svg>\n",
              "    </button>\n",
              "\n",
              "  <style>\n",
              "    .colab-df-container {\n",
              "      display:flex;\n",
              "      gap: 12px;\n",
              "    }\n",
              "\n",
              "    .colab-df-convert {\n",
              "      background-color: #E8F0FE;\n",
              "      border: none;\n",
              "      border-radius: 50%;\n",
              "      cursor: pointer;\n",
              "      display: none;\n",
              "      fill: #1967D2;\n",
              "      height: 32px;\n",
              "      padding: 0 0 0 0;\n",
              "      width: 32px;\n",
              "    }\n",
              "\n",
              "    .colab-df-convert:hover {\n",
              "      background-color: #E2EBFA;\n",
              "      box-shadow: 0px 1px 2px rgba(60, 64, 67, 0.3), 0px 1px 3px 1px rgba(60, 64, 67, 0.15);\n",
              "      fill: #174EA6;\n",
              "    }\n",
              "\n",
              "    .colab-df-buttons div {\n",
              "      margin-bottom: 4px;\n",
              "    }\n",
              "\n",
              "    [theme=dark] .colab-df-convert {\n",
              "      background-color: #3B4455;\n",
              "      fill: #D2E3FC;\n",
              "    }\n",
              "\n",
              "    [theme=dark] .colab-df-convert:hover {\n",
              "      background-color: #434B5C;\n",
              "      box-shadow: 0px 1px 3px 1px rgba(0, 0, 0, 0.15);\n",
              "      filter: drop-shadow(0px 1px 2px rgba(0, 0, 0, 0.3));\n",
              "      fill: #FFFFFF;\n",
              "    }\n",
              "  </style>\n",
              "\n",
              "    <script>\n",
              "      const buttonEl =\n",
              "        document.querySelector('#df-d6bc7047-eb97-46eb-b7ed-3ea6f13cab44 button.colab-df-convert');\n",
              "      buttonEl.style.display =\n",
              "        google.colab.kernel.accessAllowed ? 'block' : 'none';\n",
              "\n",
              "      async function convertToInteractive(key) {\n",
              "        const element = document.querySelector('#df-d6bc7047-eb97-46eb-b7ed-3ea6f13cab44');\n",
              "        const dataTable =\n",
              "          await google.colab.kernel.invokeFunction('convertToInteractive',\n",
              "                                                    [key], {});\n",
              "        if (!dataTable) return;\n",
              "\n",
              "        const docLinkHtml = 'Like what you see? Visit the ' +\n",
              "          '<a target=\"_blank\" href=https://colab.research.google.com/notebooks/data_table.ipynb>data table notebook</a>'\n",
              "          + ' to learn more about interactive tables.';\n",
              "        element.innerHTML = '';\n",
              "        dataTable['output_type'] = 'display_data';\n",
              "        await google.colab.output.renderOutput(dataTable, element);\n",
              "        const docLink = document.createElement('div');\n",
              "        docLink.innerHTML = docLinkHtml;\n",
              "        element.appendChild(docLink);\n",
              "      }\n",
              "    </script>\n",
              "  </div>\n",
              "\n",
              "\n",
              "<div id=\"df-cf6d506b-5129-4505-8361-12f0ca92777a\">\n",
              "  <button class=\"colab-df-quickchart\" onclick=\"quickchart('df-cf6d506b-5129-4505-8361-12f0ca92777a')\"\n",
              "            title=\"Suggest charts\"\n",
              "            style=\"display:none;\">\n",
              "\n",
              "<svg xmlns=\"http://www.w3.org/2000/svg\" height=\"24px\"viewBox=\"0 0 24 24\"\n",
              "     width=\"24px\">\n",
              "    <g>\n",
              "        <path d=\"M19 3H5c-1.1 0-2 .9-2 2v14c0 1.1.9 2 2 2h14c1.1 0 2-.9 2-2V5c0-1.1-.9-2-2-2zM9 17H7v-7h2v7zm4 0h-2V7h2v10zm4 0h-2v-4h2v4z\"/>\n",
              "    </g>\n",
              "</svg>\n",
              "  </button>\n",
              "\n",
              "<style>\n",
              "  .colab-df-quickchart {\n",
              "      --bg-color: #E8F0FE;\n",
              "      --fill-color: #1967D2;\n",
              "      --hover-bg-color: #E2EBFA;\n",
              "      --hover-fill-color: #174EA6;\n",
              "      --disabled-fill-color: #AAA;\n",
              "      --disabled-bg-color: #DDD;\n",
              "  }\n",
              "\n",
              "  [theme=dark] .colab-df-quickchart {\n",
              "      --bg-color: #3B4455;\n",
              "      --fill-color: #D2E3FC;\n",
              "      --hover-bg-color: #434B5C;\n",
              "      --hover-fill-color: #FFFFFF;\n",
              "      --disabled-bg-color: #3B4455;\n",
              "      --disabled-fill-color: #666;\n",
              "  }\n",
              "\n",
              "  .colab-df-quickchart {\n",
              "    background-color: var(--bg-color);\n",
              "    border: none;\n",
              "    border-radius: 50%;\n",
              "    cursor: pointer;\n",
              "    display: none;\n",
              "    fill: var(--fill-color);\n",
              "    height: 32px;\n",
              "    padding: 0;\n",
              "    width: 32px;\n",
              "  }\n",
              "\n",
              "  .colab-df-quickchart:hover {\n",
              "    background-color: var(--hover-bg-color);\n",
              "    box-shadow: 0 1px 2px rgba(60, 64, 67, 0.3), 0 1px 3px 1px rgba(60, 64, 67, 0.15);\n",
              "    fill: var(--button-hover-fill-color);\n",
              "  }\n",
              "\n",
              "  .colab-df-quickchart-complete:disabled,\n",
              "  .colab-df-quickchart-complete:disabled:hover {\n",
              "    background-color: var(--disabled-bg-color);\n",
              "    fill: var(--disabled-fill-color);\n",
              "    box-shadow: none;\n",
              "  }\n",
              "\n",
              "  .colab-df-spinner {\n",
              "    border: 2px solid var(--fill-color);\n",
              "    border-color: transparent;\n",
              "    border-bottom-color: var(--fill-color);\n",
              "    animation:\n",
              "      spin 1s steps(1) infinite;\n",
              "  }\n",
              "\n",
              "  @keyframes spin {\n",
              "    0% {\n",
              "      border-color: transparent;\n",
              "      border-bottom-color: var(--fill-color);\n",
              "      border-left-color: var(--fill-color);\n",
              "    }\n",
              "    20% {\n",
              "      border-color: transparent;\n",
              "      border-left-color: var(--fill-color);\n",
              "      border-top-color: var(--fill-color);\n",
              "    }\n",
              "    30% {\n",
              "      border-color: transparent;\n",
              "      border-left-color: var(--fill-color);\n",
              "      border-top-color: var(--fill-color);\n",
              "      border-right-color: var(--fill-color);\n",
              "    }\n",
              "    40% {\n",
              "      border-color: transparent;\n",
              "      border-right-color: var(--fill-color);\n",
              "      border-top-color: var(--fill-color);\n",
              "    }\n",
              "    60% {\n",
              "      border-color: transparent;\n",
              "      border-right-color: var(--fill-color);\n",
              "    }\n",
              "    80% {\n",
              "      border-color: transparent;\n",
              "      border-right-color: var(--fill-color);\n",
              "      border-bottom-color: var(--fill-color);\n",
              "    }\n",
              "    90% {\n",
              "      border-color: transparent;\n",
              "      border-bottom-color: var(--fill-color);\n",
              "    }\n",
              "  }\n",
              "</style>\n",
              "\n",
              "  <script>\n",
              "    async function quickchart(key) {\n",
              "      const quickchartButtonEl =\n",
              "        document.querySelector('#' + key + ' button');\n",
              "      quickchartButtonEl.disabled = true;  // To prevent multiple clicks.\n",
              "      quickchartButtonEl.classList.add('colab-df-spinner');\n",
              "      try {\n",
              "        const charts = await google.colab.kernel.invokeFunction(\n",
              "            'suggestCharts', [key], {});\n",
              "      } catch (error) {\n",
              "        console.error('Error during call to suggestCharts:', error);\n",
              "      }\n",
              "      quickchartButtonEl.classList.remove('colab-df-spinner');\n",
              "      quickchartButtonEl.classList.add('colab-df-quickchart-complete');\n",
              "    }\n",
              "    (() => {\n",
              "      let quickchartButtonEl =\n",
              "        document.querySelector('#df-cf6d506b-5129-4505-8361-12f0ca92777a button');\n",
              "      quickchartButtonEl.style.display =\n",
              "        google.colab.kernel.accessAllowed ? 'block' : 'none';\n",
              "    })();\n",
              "  </script>\n",
              "</div>\n",
              "\n",
              "  <div id=\"id_b5ddcbbc-f1e8-49e9-b81b-a5b26981e019\">\n",
              "    <style>\n",
              "      .colab-df-generate {\n",
              "        background-color: #E8F0FE;\n",
              "        border: none;\n",
              "        border-radius: 50%;\n",
              "        cursor: pointer;\n",
              "        display: none;\n",
              "        fill: #1967D2;\n",
              "        height: 32px;\n",
              "        padding: 0 0 0 0;\n",
              "        width: 32px;\n",
              "      }\n",
              "\n",
              "      .colab-df-generate:hover {\n",
              "        background-color: #E2EBFA;\n",
              "        box-shadow: 0px 1px 2px rgba(60, 64, 67, 0.3), 0px 1px 3px 1px rgba(60, 64, 67, 0.15);\n",
              "        fill: #174EA6;\n",
              "      }\n",
              "\n",
              "      [theme=dark] .colab-df-generate {\n",
              "        background-color: #3B4455;\n",
              "        fill: #D2E3FC;\n",
              "      }\n",
              "\n",
              "      [theme=dark] .colab-df-generate:hover {\n",
              "        background-color: #434B5C;\n",
              "        box-shadow: 0px 1px 3px 1px rgba(0, 0, 0, 0.15);\n",
              "        filter: drop-shadow(0px 1px 2px rgba(0, 0, 0, 0.3));\n",
              "        fill: #FFFFFF;\n",
              "      }\n",
              "    </style>\n",
              "    <button class=\"colab-df-generate\" onclick=\"generateWithVariable('test_df')\"\n",
              "            title=\"Generate code using this dataframe.\"\n",
              "            style=\"display:none;\">\n",
              "\n",
              "  <svg xmlns=\"http://www.w3.org/2000/svg\" height=\"24px\"viewBox=\"0 0 24 24\"\n",
              "       width=\"24px\">\n",
              "    <path d=\"M7,19H8.4L18.45,9,17,7.55,7,17.6ZM5,21V16.75L18.45,3.32a2,2,0,0,1,2.83,0l1.4,1.43a1.91,1.91,0,0,1,.58,1.4,1.91,1.91,0,0,1-.58,1.4L9.25,21ZM18.45,9,17,7.55Zm-12,3A5.31,5.31,0,0,0,4.9,8.1,5.31,5.31,0,0,0,1,6.5,5.31,5.31,0,0,0,4.9,4.9,5.31,5.31,0,0,0,6.5,1,5.31,5.31,0,0,0,8.1,4.9,5.31,5.31,0,0,0,12,6.5,5.46,5.46,0,0,0,6.5,12Z\"/>\n",
              "  </svg>\n",
              "    </button>\n",
              "    <script>\n",
              "      (() => {\n",
              "      const buttonEl =\n",
              "        document.querySelector('#id_b5ddcbbc-f1e8-49e9-b81b-a5b26981e019 button.colab-df-generate');\n",
              "      buttonEl.style.display =\n",
              "        google.colab.kernel.accessAllowed ? 'block' : 'none';\n",
              "\n",
              "      buttonEl.onclick = () => {\n",
              "        google.colab.notebook.generateWithVariable('test_df');\n",
              "      }\n",
              "      })();\n",
              "    </script>\n",
              "  </div>\n",
              "\n",
              "    </div>\n",
              "  </div>\n"
            ],
            "application/vnd.google.colaboratory.intrinsic+json": {
              "type": "dataframe",
              "variable_name": "test_df",
              "summary": "{\n  \"name\": \"test_df\",\n  \"rows\": 445,\n  \"fields\": [\n    {\n      \"column\": \"text\",\n      \"properties\": {\n        \"dtype\": \"string\",\n        \"num_unique_values\": 440,\n        \"samples\": [\n          \"  Chelsea boss Jose Mourinho has insisted that Sir Alex Ferguson and Arsene Wenger would swap places with him.  Mourinho's side were knocked out of the FA Cup by Newcastle last Sunday before seeing Barcelona secure a 2-1 Champions League first-leg lead in the Nou Camp. But he denied his club was suffering a dip in form which league rivals Arsenal and Manchester United could exploit. \\\"They cannot speak to us about blips because they're not in a better position than us,\\\" Mourinho said. \\\"Do they want to change positions with us? We are top of the league by nine points and in the Carling Cup final. \\\"The only thing they can say they are in a better position than us in is the FA Cup. \\\"In the Champions League all three teams can either go through or go out but the one team that is in the best position is still Chelsea.\\\"  Mourinho said it was important to keep his team's results in perspective. \\\"Don't try to put pressure on me because I am never under pressure,\\\" he warned. \\\"We have lost one important game this week - at Newcastle - and we're out of the FA Cup but I don't think a defeat in a first-leg tie is a real defeat. We are just 2-1 down at half-time.\\\" Asked if his Chelsea honeymoon was now over, Mourinho replied: \\\"I have had 20 years of honeymoons with my wife. \\\"The day that this club is not happy with me is the day that I go.\\\"\",\n          \"  Asia is set to drive global media growth to 2008 and beyond, with China and India filling the two top spots, analysts have predicted.  Japan, South Korea and Singapore will also be strong players, but China's demographics give it the edge, a media conference in London heard. The world's most populous country - population 1.3bn - now has about 200 million middle-class consumers. Forty per cent fall in the key 16 to 35-year-old demographic. As a result, it is attracting huge foreign investment in media and communications, analysts told the Financial Times New Media and Broadcasting Conference last week. Interest in China among international media groups has surged in recent months after Beijing issued rules allowing foreign investment in joint-venture television, radio and film production companies. News Corporation, Viacom and Sony Pictures are among the big names involved in joint ventures with Chinese players.  More than 700 million Chinese listen to 1,000 radio stations, while 200 TV stations broadcast 2,900 channels. China Central Television (CCTV), the state broadcaster, claims an audience of more than a billion people. Of the country's 360 million households, 100 million receive cable TV programmes. The rest could be a potential audience for satellite broadcasting which China plans to launch in 2006. The State Administration of Radio, Film and Television (SARFT), which regulates broadcasting, plans to move all programmes to digital by 2015. The continuing roll-out of new digital channels has boosted demand for quality content, creating significant opportunities for both Chinese and foreign content providers.  But according to recent reports from China, the authorities have tightened controls over foreign investment in TV production joint ventures. It has limited most foreign companies to only one joint venture and banned the involvement of any found to be \\\"unfriendly\\\", according to reports. The SARFT said: \\\"There is a very strong ideological component to production of broadcast television programmes.\\\" It added: \\\"China must understand the political tendencies and background of overseas partners and prevent joint ventures or cooperation from bringing harmful foreign thinking or culture into our production sector.\\\" According to the Financial Times' China correspondent, the new rules highlight the political sensitivities that surround foreign involvement in China's media sector. This is despite Beijing's decision to open the state-dominated sector to international investment.  As well as traditional broadcasting, Chinese and foreign entrepreneurs alike see fortunes waiting to be made in new media, like mobile services and online gaming. Mobile games already account for 15% of revenues from China's 340 million mobile users.  Online gaming sales are predicted to top a billion US dollars next year, according to the UK-based journal Screen Digest. The video market is also seen as a big opportunity, although piracy levels are still very high despite an anti-piracy drive during the past year. In the cinema industry the deployment of digital screens is being accelerated. This is not just to modernise venues but also to curb piracy and regulate distribution. Li Ruigang, president of the commercial broadcaster Shanghai Media Group, told the conference that China's new media market \\\"is already experiencing explosive growth\\\". It was particularly strong in charged broadband services and mobile value-added services. Leading China-watcher, and founder of the CGA consultancy Jeanne-Marie Gescher, agreed that the time was ripe for foreign media groups to tap China's huge media market potential. \\\"China's media are now driven by investors who do not care how people consume media - they just want people to consume more of it,\\\" Mrs Gescher concluded.\",\n          \"  The Liberal Democrats are promising to raise the stamp duty threshold if they win the general election, in a bid to court first-time house buyers.  Vince Cable, the party's Treasury spokesman, said raising the threshold to \\u00a3150,000 would prevent over 400,000 home-buyers from paying the tax. He said first-time buyers were being \\\"squeezed out\\\" of the housing market. The Labour party said the Liberal Democrats needed to explain how they would pay for the plan. The plan forms part of a wider Lib Dems policy to encourage first time buyers and those on lower incomes into the market.  Under the proposals, the average saving for a new buyer would be more than \\u00a31,000, according to Mr Cable. \\\"First time buyers are being squeezed out of the housing market not only by higher house prices but also by being swept into the stamp duty net,\\\" he said. \\\"By failing to uprate the stamp duty threshold Gordon Brown has hit first time buyers and those on low incomes the hardest. \\\"By pledging to increase the threshold to \\u00a3150,000, the Liberal Democrats will make it possible for many first time buyers to buy a property without facing this tax.\\\" Paul Boateng MP, Labour's Chief Secretary to the Treasury, said: \\\"The Lib Dems' sums don't add up. \\\"They can have no credibility until they can say how they would fund their ever growing list of tax and spending commitments.\\\" Mr Cable will publish his \\\"Alternative Budget\\\" on Monday.\"\n        ],\n        \"semantic_type\": \"\",\n        \"description\": \"\"\n      }\n    },\n    {\n      \"column\": \"label\",\n      \"properties\": {\n        \"dtype\": \"number\",\n        \"std\": 1,\n        \"min\": 0,\n        \"max\": 4,\n        \"num_unique_values\": 5,\n        \"samples\": [\n          2,\n          4,\n          0\n        ],\n        \"semantic_type\": \"\",\n        \"description\": \"\"\n      }\n    },\n    {\n      \"column\": \"clean_text\",\n      \"properties\": {\n        \"dtype\": \"string\",\n        \"num_unique_values\": 440,\n        \"samples\": [\n          \"chelsea boss jose mourinho has insisted that sir alex ferguson and arsene wenger would swap places with him mourinhos side were knocked out of the fa cup by newcastle last sunday before seeing barcelona secure a 21 champions league firstleg lead in the nou camp but he denied his club was suffering a dip in form which league rivals arsenal and manchester united could exploit they cannot speak to us about blips because theyre not in a better position than us mourinho said do they want to change positions with us we are top of the league by nine points and in the carling cup final the only thing they can say they are in a better position than us in is the fa cup in the champions league all three teams can either go through or go out but the one team that is in the best position is still chelsea mourinho said it was important to keep his teams results in perspective dont try to put pressure on me because i am never under pressure he warned we have lost one important game this week at newcastle and were out of the fa cup but i dont think a defeat in a firstleg tie is a real defeat we are just 21 down at halftime asked if his chelsea honeymoon was now over mourinho replied i have had 20 years of honeymoons with my wife the day that this club is not happy with me is the day that i go\",\n          \"asia is set to drive global media growth to 2008 and beyond with china and india filling the two top spots analysts have predicted japan south korea and singapore will also be strong players but chinas demographics give it the edge a media conference in london heard the worlds most populous country population 13bn now has about 200 million middleclass consumers forty per cent fall in the key 16 to 35yearold demographic as a result it is attracting huge foreign investment in media and communications analysts told the financial times new media and broadcasting conference last week interest in china among international media groups has surged in recent months after beijing issued rules allowing foreign investment in jointventure television radio and film production companies news corporation viacom and sony pictures are among the big names involved in joint ventures with chinese players more than 700 million chinese listen to 1000 radio stations while 200 tv stations broadcast 2900 channels china central television cctv the state broadcaster claims an audience of more than a billion people of the countrys 360 million households 100 million receive cable tv programmes the rest could be a potential audience for satellite broadcasting which china plans to launch in 2006 the state administration of radio film and television sarft which regulates broadcasting plans to move all programmes to digital by 2015 the continuing rollout of new digital channels has boosted demand for quality content creating significant opportunities for both chinese and foreign content providers but according to recent reports from china the authorities have tightened controls over foreign investment in tv production joint ventures it has limited most foreign companies to only one joint venture and banned the involvement of any found to be unfriendly according to reports the sarft said there is a very strong ideological component to production of broadcast television programmes it added china must understand the political tendencies and background of overseas partners and prevent joint ventures or cooperation from bringing harmful foreign thinking or culture into our production sector according to the financial times china correspondent the new rules highlight the political sensitivities that surround foreign involvement in chinas media sector this is despite beijings decision to open the statedominated sector to international investment as well as traditional broadcasting chinese and foreign entrepreneurs alike see fortunes waiting to be made in new media like mobile services and online gaming mobile games already account for 15 of revenues from chinas 340 million mobile users online gaming sales are predicted to top a billion us dollars next year according to the ukbased journal screen digest the video market is also seen as a big opportunity although piracy levels are still very high despite an antipiracy drive during the past year in the cinema industry the deployment of digital screens is being accelerated this is not just to modernise venues but also to curb piracy and regulate distribution li ruigang president of the commercial broadcaster shanghai media group told the conference that chinas new media market is already experiencing explosive growth it was particularly strong in charged broadband services and mobile valueadded services leading chinawatcher and founder of the cga consultancy jeannemarie gescher agreed that the time was ripe for foreign media groups to tap chinas huge media market potential chinas media are now driven by investors who do not care how people consume media they just want people to consume more of it mrs gescher concluded\",\n          \"the liberal democrats are promising to raise the stamp duty threshold if they win the general election in a bid to court firsttime house buyers vince cable the partys treasury spokesman said raising the threshold to 150000 would prevent over 400000 homebuyers from paying the tax he said firsttime buyers were being squeezed out of the housing market the labour party said the liberal democrats needed to explain how they would pay for the plan the plan forms part of a wider lib dems policy to encourage first time buyers and those on lower incomes into the market under the proposals the average saving for a new buyer would be more than 1000 according to mr cable first time buyers are being squeezed out of the housing market not only by higher house prices but also by being swept into the stamp duty net he said by failing to uprate the stamp duty threshold gordon brown has hit first time buyers and those on low incomes the hardest by pledging to increase the threshold to 150000 the liberal democrats will make it possible for many first time buyers to buy a property without facing this tax paul boateng mp labours chief secretary to the treasury said the lib dems sums dont add up they can have no credibility until they can say how they would fund their ever growing list of tax and spending commitments mr cable will publish his alternative budget on monday\"\n        ],\n        \"semantic_type\": \"\",\n        \"description\": \"\"\n      }\n    }\n  ]\n}"
            }
          },
          "metadata": {},
          "execution_count": 95
        }
      ]
    },
    {
      "cell_type": "code",
      "source": [
        "prediction"
      ],
      "metadata": {
        "colab": {
          "base_uri": "https://localhost:8080/",
          "height": 0
        },
        "id": "YB2RJQ-dKVa4",
        "outputId": "ddc11496-d819-4c89-8337-f1f30069fb4b"
      },
      "execution_count": 69,
      "outputs": [
        {
          "output_type": "execute_result",
          "data": {
            "text/plain": [
              "SequenceClassifierOutput(loss=None, logits=tensor([[-2.2951,  6.4143, -1.3542, -1.8120, -2.1397]], device='cuda:0',\n",
              "       grad_fn=<AddmmBackward0>), hidden_states=None, attentions=None)"
            ]
          },
          "metadata": {},
          "execution_count": 69
        }
      ]
    },
    {
      "cell_type": "code",
      "source": [
        "int(torch.argmax(prediction.logits, axis=1).detach())"
      ],
      "metadata": {
        "colab": {
          "base_uri": "https://localhost:8080/",
          "height": 0
        },
        "id": "kyHNHY31KVWs",
        "outputId": "19188b35-8314-43c4-8754-cbfe3b5c1b2b"
      },
      "execution_count": 70,
      "outputs": [
        {
          "output_type": "execute_result",
          "data": {
            "text/plain": [
              "1"
            ]
          },
          "metadata": {},
          "execution_count": 70
        }
      ]
    },
    {
      "cell_type": "code",
      "source": [
        "from sklearn.metrics import classification_report, confusion_matrix"
      ],
      "metadata": {
        "id": "E8PBLbf0ClfD"
      },
      "execution_count": 103,
      "outputs": []
    },
    {
      "cell_type": "code",
      "source": [
        "y_true = test_df[\"label\"]\n",
        "y_pred = y_pred[\"Pred\"]"
      ],
      "metadata": {
        "id": "CI7Rm6ZoCleX"
      },
      "execution_count": 98,
      "outputs": []
    },
    {
      "cell_type": "code",
      "source": [
        "print(classification_report(y_true, y_pred))"
      ],
      "metadata": {
        "colab": {
          "base_uri": "https://localhost:8080/",
          "height": 0
        },
        "id": "LD0B2vbOClZD",
        "outputId": "ade75234-1d4f-4341-b39c-e9ad07340034"
      },
      "execution_count": 100,
      "outputs": [
        {
          "output_type": "stream",
          "name": "stdout",
          "text": [
            "              precision    recall  f1-score   support\n",
            "\n",
            "           0       1.00      1.00      1.00        99\n",
            "           1       0.98      0.98      0.98       104\n",
            "           2       0.98      0.98      0.98        82\n",
            "           3       1.00      0.99      0.99        85\n",
            "           4       0.99      1.00      0.99        75\n",
            "\n",
            "    accuracy                           0.99       445\n",
            "   macro avg       0.99      0.99      0.99       445\n",
            "weighted avg       0.99      0.99      0.99       445\n",
            "\n"
          ]
        }
      ]
    },
    {
      "cell_type": "code",
      "source": [
        "print(confusion_matrix(y_true, y_pred))"
      ],
      "metadata": {
        "colab": {
          "base_uri": "https://localhost:8080/",
          "height": 0
        },
        "id": "-TXKLumeNgG6",
        "outputId": "16a580aa-c81e-490d-d2cf-e098ee13458e"
      },
      "execution_count": 104,
      "outputs": [
        {
          "output_type": "stream",
          "name": "stdout",
          "text": [
            "[[ 99   0   0   0   0]\n",
            " [  0 102   2   0   0]\n",
            " [  0   1  80   0   1]\n",
            " [  0   1   0  84   0]\n",
            " [  0   0   0   0  75]]\n"
          ]
        }
      ]
    },
    {
      "cell_type": "code",
      "source": [
        "model.save_pretrained(\"bbcmodel\")"
      ],
      "metadata": {
        "id": "0gw1hNSqNu1R"
      },
      "execution_count": 105,
      "outputs": []
    },
    {
      "cell_type": "code",
      "source": [
        "tokenizer.save_pretrained(\"tokenizer\")"
      ],
      "metadata": {
        "colab": {
          "base_uri": "https://localhost:8080/"
        },
        "id": "rqoBMQDCO3wB",
        "outputId": "862aa398-5175-487b-8e78-f7610d3ec4f3"
      },
      "execution_count": 106,
      "outputs": [
        {
          "output_type": "execute_result",
          "data": {
            "text/plain": [
              "('tokenizer/tokenizer_config.json',\n",
              " 'tokenizer/special_tokens_map.json',\n",
              " 'tokenizer/vocab.txt',\n",
              " 'tokenizer/added_tokens.json',\n",
              " 'tokenizer/tokenizer.json')"
            ]
          },
          "metadata": {},
          "execution_count": 106
        }
      ]
    },
    {
      "cell_type": "code",
      "source": [
        "!zip -r export.zip model"
      ],
      "metadata": {
        "colab": {
          "base_uri": "https://localhost:8080/"
        },
        "id": "5RlIKuJqCx0B",
        "outputId": "a70dfe8f-4e0e-45c2-a83c-ebc82879afc9"
      },
      "execution_count": 107,
      "outputs": [
        {
          "output_type": "stream",
          "name": "stdout",
          "text": [
            "  adding: model/ (stored 0%)\n",
            "  adding: model/vocab.txt (deflated 53%)\n",
            "  adding: model/config.json (deflated 51%)\n",
            "  adding: model/tokenizer.json (deflated 71%)\n",
            "  adding: model/special_tokens_map.json (deflated 42%)\n",
            "  adding: model/model.safetensors (deflated 8%)\n",
            "  adding: model/tokenizer_config.json (deflated 76%)\n",
            "  adding: model/training_args.bin (deflated 51%)\n"
          ]
        }
      ]
    },
    {
      "cell_type": "code",
      "source": [
        "from transformers import pipeline"
      ],
      "metadata": {
        "id": "fXyYNRfWO5NF"
      },
      "execution_count": 108,
      "outputs": []
    },
    {
      "cell_type": "code",
      "source": [
        "from transformers import BertTokenizerFast, AutoModelForTokenClassification"
      ],
      "metadata": {
        "id": "z94bGts7RsGR"
      },
      "execution_count": 109,
      "outputs": []
    },
    {
      "cell_type": "code",
      "source": [
        "model = \"distilbert-base-uncased\""
      ],
      "metadata": {
        "id": "Bt14FFVdRuWd"
      },
      "execution_count": 110,
      "outputs": []
    },
    {
      "cell_type": "code",
      "source": [
        "tokenizer = BertTokenizerFast.from_pretrained(model)"
      ],
      "metadata": {
        "colab": {
          "base_uri": "https://localhost:8080/"
        },
        "id": "8sb0oonWRw5B",
        "outputId": "cab0cb49-509c-4e36-c352-9a6f9e28dc39"
      },
      "execution_count": 111,
      "outputs": [
        {
          "output_type": "stream",
          "name": "stderr",
          "text": [
            "The tokenizer class you load from this checkpoint is not the same type as the class this function is called from. It may result in unexpected tokenization. \n",
            "The tokenizer class you load from this checkpoint is 'DistilBertTokenizer'. \n",
            "The class this function is called from is 'BertTokenizerFast'.\n"
          ]
        }
      ]
    },
    {
      "cell_type": "code",
      "source": [
        "model_fine_tuned=AutoModelForTokenClassification.from_pretrained(\"/content/model\")"
      ],
      "metadata": {
        "id": "wXDu7GYSRylp"
      },
      "execution_count": 112,
      "outputs": []
    },
    {
      "cell_type": "code",
      "source": [
        "classify_pipeline=pipeline(\"text-classification\",model=model_fine_tuned,tokenizer=tokenizer)"
      ],
      "metadata": {
        "colab": {
          "base_uri": "https://localhost:8080/"
        },
        "id": "bd78WuDjR1oF",
        "outputId": "cb090f26-7f41-4396-d21d-0585dfd65ade"
      },
      "execution_count": 114,
      "outputs": [
        {
          "output_type": "stream",
          "name": "stderr",
          "text": [
            "Hardware accelerator e.g. GPU is available in the environment, but no `device` argument is passed to the `Pipeline` object. Model will be on CPU.\n",
            "The model 'DistilBertForTokenClassification' is not supported for text-classification. Supported models are ['AlbertForSequenceClassification', 'BartForSequenceClassification', 'BertForSequenceClassification', 'BigBirdForSequenceClassification', 'BigBirdPegasusForSequenceClassification', 'BioGptForSequenceClassification', 'BloomForSequenceClassification', 'CamembertForSequenceClassification', 'CanineForSequenceClassification', 'LlamaForSequenceClassification', 'ConvBertForSequenceClassification', 'CTRLForSequenceClassification', 'Data2VecTextForSequenceClassification', 'DebertaForSequenceClassification', 'DebertaV2ForSequenceClassification', 'DistilBertForSequenceClassification', 'ElectraForSequenceClassification', 'ErnieForSequenceClassification', 'ErnieMForSequenceClassification', 'EsmForSequenceClassification', 'FalconForSequenceClassification', 'FlaubertForSequenceClassification', 'FNetForSequenceClassification', 'FunnelForSequenceClassification', 'GemmaForSequenceClassification', 'Gemma2ForSequenceClassification', 'GPT2ForSequenceClassification', 'GPT2ForSequenceClassification', 'GPTBigCodeForSequenceClassification', 'GPTNeoForSequenceClassification', 'GPTNeoXForSequenceClassification', 'GPTJForSequenceClassification', 'IBertForSequenceClassification', 'JambaForSequenceClassification', 'JetMoeForSequenceClassification', 'LayoutLMForSequenceClassification', 'LayoutLMv2ForSequenceClassification', 'LayoutLMv3ForSequenceClassification', 'LEDForSequenceClassification', 'LiltForSequenceClassification', 'LlamaForSequenceClassification', 'LongformerForSequenceClassification', 'LukeForSequenceClassification', 'MarkupLMForSequenceClassification', 'MBartForSequenceClassification', 'MegaForSequenceClassification', 'MegatronBertForSequenceClassification', 'MistralForSequenceClassification', 'MixtralForSequenceClassification', 'MobileBertForSequenceClassification', 'MPNetForSequenceClassification', 'MptForSequenceClassification', 'MraForSequenceClassification', 'MT5ForSequenceClassification', 'MvpForSequenceClassification', 'NezhaForSequenceClassification', 'NystromformerForSequenceClassification', 'OpenLlamaForSequenceClassification', 'OpenAIGPTForSequenceClassification', 'OPTForSequenceClassification', 'PerceiverForSequenceClassification', 'PersimmonForSequenceClassification', 'PhiForSequenceClassification', 'Phi3ForSequenceClassification', 'PLBartForSequenceClassification', 'QDQBertForSequenceClassification', 'Qwen2ForSequenceClassification', 'Qwen2MoeForSequenceClassification', 'ReformerForSequenceClassification', 'RemBertForSequenceClassification', 'RobertaForSequenceClassification', 'RobertaPreLayerNormForSequenceClassification', 'RoCBertForSequenceClassification', 'RoFormerForSequenceClassification', 'SqueezeBertForSequenceClassification', 'StableLmForSequenceClassification', 'Starcoder2ForSequenceClassification', 'T5ForSequenceClassification', 'TapasForSequenceClassification', 'TransfoXLForSequenceClassification', 'UMT5ForSequenceClassification', 'XLMForSequenceClassification', 'XLMRobertaForSequenceClassification', 'XLMRobertaXLForSequenceClassification', 'XLNetForSequenceClassification', 'XmodForSequenceClassification', 'YosoForSequenceClassification'].\n"
          ]
        }
      ]
    },
    {
      "cell_type": "code",
      "source": [
        "example=\"Sunny is Data Scientist and Generative AI Engineer\""
      ],
      "metadata": {
        "id": "owrbUZm4R7Y1"
      },
      "execution_count": 115,
      "outputs": []
    },
    {
      "cell_type": "code",
      "source": [
        "classify_pipeline(example)"
      ],
      "metadata": {
        "id": "lRb4Q-EmSHjx"
      },
      "execution_count": null,
      "outputs": []
    },
    {
      "cell_type": "code",
      "source": [],
      "metadata": {
        "id": "e67Cn28qSKad"
      },
      "execution_count": null,
      "outputs": []
    }
  ]
}